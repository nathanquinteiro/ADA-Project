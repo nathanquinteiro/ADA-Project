{
 "cells": [
  {
   "cell_type": "code",
   "execution_count": 76,
   "metadata": {
    "collapsed": false
   },
   "outputs": [],
   "source": [
    "import os\n",
    "import json\n",
    "import pandas as pd\n",
    "import numpy as np\n",
    "import csv\n",
    "import gdal"
   ]
  },
  {
   "cell_type": "code",
   "execution_count": 2,
   "metadata": {
    "collapsed": false
   },
   "outputs": [
    {
     "data": {
      "text/plain": [
       "\"path = 'data/sample.tsv'\\npath = 'data/twex.tsv'\\nnb_fields = 20\""
      ]
     },
     "execution_count": 2,
     "metadata": {},
     "output_type": "execute_result"
    }
   ],
   "source": [
    "\"\"\"path = 'data/sample.tsv'\n",
    "path = 'data/twex.tsv'\n",
    "nb_fields = 20\"\"\""
   ]
  },
  {
   "cell_type": "code",
   "execution_count": 3,
   "metadata": {
    "collapsed": false
   },
   "outputs": [
    {
     "data": {
      "text/plain": [
       "'ids = \"\"\\nwith open(\"data/schema.txt\", \"r\") as schema:\\n    content = schema.readlines()\\n    for line in content:\\n        if(ids == \"\"):\\n            ids = ids + (line.split(\"    \")[1])\\n        else:\\n            ids = ids + \" \" + (line.split(\"    \")[1])\\nidsList = list(ids.split(\" \"))\\nprint(idsList)'"
      ]
     },
     "execution_count": 3,
     "metadata": {},
     "output_type": "execute_result"
    }
   ],
   "source": [
    "\"\"\"ids = \"\"\n",
    "with open(\"data/schema.txt\", \"r\") as schema:\n",
    "    content = schema.readlines()\n",
    "    for line in content:\n",
    "        if(ids == \"\"):\n",
    "            ids = ids + (line.split(\"    \")[1])\n",
    "        else:\n",
    "            ids = ids + \" \" + (line.split(\"    \")[1])\n",
    "idsList = list(ids.split(\" \"))\n",
    "print(idsList)\"\"\""
   ]
  },
  {
   "cell_type": "code",
   "execution_count": 4,
   "metadata": {
    "collapsed": false
   },
   "outputs": [
    {
     "data": {
      "text/plain": [
       "'cleanedPath = \"data/output.tsv\"\\nvalues = []\\nwith open(path) as tsvfile:\\n    content = tsvfile.readlines()\\n    with open(path, \"w\") as outputfile:\\n        for i in range(len(content)):\\n            if i%10000 == 0:\\n                print(\"line:\", i)\\n            line = content[i]\\n            if(len(line.split(\"\\t\")) == nb_fields):\\n                values.append(line.split(\"\\t\"))\\n        tsvfile.close()'"
      ]
     },
     "execution_count": 4,
     "metadata": {},
     "output_type": "execute_result"
    }
   ],
   "source": [
    "'''cleanedPath = \"data/output.tsv\"\n",
    "values = []\n",
    "with open(path) as tsvfile:\n",
    "    content = tsvfile.readlines()\n",
    "    with open(path, \"w\") as outputfile:\n",
    "        for i in range(len(content)):\n",
    "            if i%10000 == 0:\n",
    "                print(\"line:\", i)\n",
    "            line = content[i]\n",
    "            if(len(line.split(\"\\t\")) == nb_fields):\n",
    "                values.append(line.split(\"\\t\"))\n",
    "        tsvfile.close()'''"
   ]
  },
  {
   "cell_type": "code",
   "execution_count": 5,
   "metadata": {
    "collapsed": false
   },
   "outputs": [
    {
     "data": {
      "text/plain": [
       "'cleanedPath = \"data/cleaned.tsv\"\\nwith open(path) as infile:\\n    with open(cleanedPath, \"w\") as outputfile:\\n        i=0\\n        for line in infile:\\n            i = i+1\\n            if i%200000 == 0:\\n                print(\"line:\", i)\\n            line_array = line.split(\"\\t\")\\n            if(len(line_array) == nb_fields):\\n                if line_array[4] != \"\\\\N\":\\n                    outputfile.write(line_array[0])\\n                    outputfile.write(\"\\t\")\\n                    outputfile.write(line_array[2])\\n                    outputfile.write(\"\\t\")\\n                    outputfile.write(line_array[4])\\n                    outputfile.write(\"\\t\")\\n                    outputfile.write(line_array[5])\\n                    outputfile.write(\"\\n\")\\n        outputfile.close()\\n    infile.close()'"
      ]
     },
     "execution_count": 5,
     "metadata": {},
     "output_type": "execute_result"
    }
   ],
   "source": [
    "\"\"\"cleanedPath = \"data/cleaned.tsv\"\n",
    "with open(path) as infile:\n",
    "    with open(cleanedPath, \"w\") as outputfile:\n",
    "        i=0\n",
    "        for line in infile:\n",
    "            i = i+1\n",
    "            if i%200000 == 0:\n",
    "                print(\"line:\", i)\n",
    "            line_array = line.split(\"\\t\")\n",
    "            if(len(line_array) == nb_fields):\n",
    "                if line_array[4] != \"\\\\N\":\n",
    "                    outputfile.write(line_array[0])\n",
    "                    outputfile.write(\"\\t\")\n",
    "                    outputfile.write(line_array[2])\n",
    "                    outputfile.write(\"\\t\")\n",
    "                    outputfile.write(line_array[4])\n",
    "                    outputfile.write(\"\\t\")\n",
    "                    outputfile.write(line_array[5])\n",
    "                    outputfile.write(\"\\n\")\n",
    "        outputfile.close()\n",
    "    infile.close()\"\"\""
   ]
  },
  {
   "cell_type": "code",
   "execution_count": 6,
   "metadata": {
    "collapsed": false
   },
   "outputs": [],
   "source": [
    "data = pd.DataFrame.from_csv(\"data/cleaned.tsv\", sep=\"\\t\", header=None)"
   ]
  },
  {
   "cell_type": "code",
   "execution_count": 7,
   "metadata": {
    "collapsed": false
   },
   "outputs": [
    {
     "data": {
      "text/html": [
       "<div>\n",
       "<table border=\"1\" class=\"dataframe\">\n",
       "  <thead>\n",
       "    <tr style=\"text-align: right;\">\n",
       "      <th></th>\n",
       "      <th>date</th>\n",
       "      <th>longitude</th>\n",
       "      <th>latitude</th>\n",
       "    </tr>\n",
       "    <tr>\n",
       "      <th>0</th>\n",
       "      <th></th>\n",
       "      <th></th>\n",
       "      <th></th>\n",
       "    </tr>\n",
       "  </thead>\n",
       "  <tbody>\n",
       "    <tr>\n",
       "      <th>9514097914</th>\n",
       "      <td>2010-02-23 05:55:51</td>\n",
       "      <td>7.43926</td>\n",
       "      <td>46.9489</td>\n",
       "    </tr>\n",
       "    <tr>\n",
       "      <th>9514846412</th>\n",
       "      <td>2010-02-23 06:22:40</td>\n",
       "      <td>8.53781</td>\n",
       "      <td>47.3678</td>\n",
       "    </tr>\n",
       "    <tr>\n",
       "      <th>9516574359</th>\n",
       "      <td>2010-02-23 07:34:25</td>\n",
       "      <td>6.13396</td>\n",
       "      <td>46.1951</td>\n",
       "    </tr>\n",
       "    <tr>\n",
       "      <th>9516952605</th>\n",
       "      <td>2010-02-23 07:51:47</td>\n",
       "      <td>8.81749</td>\n",
       "      <td>47.2288</td>\n",
       "    </tr>\n",
       "    <tr>\n",
       "      <th>9517198943</th>\n",
       "      <td>2010-02-23 08:02:57</td>\n",
       "      <td>6.63254</td>\n",
       "      <td>46.5199</td>\n",
       "    </tr>\n",
       "  </tbody>\n",
       "</table>\n",
       "</div>"
      ],
      "text/plain": [
       "                           date  longitude  latitude\n",
       "0                                                   \n",
       "9514097914  2010-02-23 05:55:51    7.43926   46.9489\n",
       "9514846412  2010-02-23 06:22:40    8.53781   47.3678\n",
       "9516574359  2010-02-23 07:34:25    6.13396   46.1951\n",
       "9516952605  2010-02-23 07:51:47    8.81749   47.2288\n",
       "9517198943  2010-02-23 08:02:57    6.63254   46.5199"
      ]
     },
     "execution_count": 7,
     "metadata": {},
     "output_type": "execute_result"
    }
   ],
   "source": [
    "data.columns=[\"date\",\"longitude\",\"latitude\"]\n",
    "data.head()"
   ]
  },
  {
   "cell_type": "code",
   "execution_count": 8,
   "metadata": {
    "collapsed": false
   },
   "outputs": [
    {
     "data": {
      "text/html": [
       "<div>\n",
       "<table border=\"1\" class=\"dataframe\">\n",
       "  <thead>\n",
       "    <tr style=\"text-align: right;\">\n",
       "      <th></th>\n",
       "      <th>latitude</th>\n",
       "      <th>longitude</th>\n",
       "    </tr>\n",
       "    <tr>\n",
       "      <th>0</th>\n",
       "      <th></th>\n",
       "      <th></th>\n",
       "    </tr>\n",
       "  </thead>\n",
       "  <tbody>\n",
       "    <tr>\n",
       "      <th>9514097914</th>\n",
       "      <td>46.9489</td>\n",
       "      <td>7.43926</td>\n",
       "    </tr>\n",
       "    <tr>\n",
       "      <th>9514846412</th>\n",
       "      <td>47.3678</td>\n",
       "      <td>8.53781</td>\n",
       "    </tr>\n",
       "    <tr>\n",
       "      <th>9516574359</th>\n",
       "      <td>46.1951</td>\n",
       "      <td>6.13396</td>\n",
       "    </tr>\n",
       "    <tr>\n",
       "      <th>9516952605</th>\n",
       "      <td>47.2288</td>\n",
       "      <td>8.81749</td>\n",
       "    </tr>\n",
       "    <tr>\n",
       "      <th>9517198943</th>\n",
       "      <td>46.5199</td>\n",
       "      <td>6.63254</td>\n",
       "    </tr>\n",
       "  </tbody>\n",
       "</table>\n",
       "</div>"
      ],
      "text/plain": [
       "            latitude  longitude\n",
       "0                              \n",
       "9514097914   46.9489    7.43926\n",
       "9514846412   47.3678    8.53781\n",
       "9516574359   46.1951    6.13396\n",
       "9516952605   47.2288    8.81749\n",
       "9517198943   46.5199    6.63254"
      ]
     },
     "execution_count": 8,
     "metadata": {},
     "output_type": "execute_result"
    }
   ],
   "source": [
    "localisation = data[[\"latitude\",\"longitude\"]]\n",
    "localisation.head()"
   ]
  },
  {
   "cell_type": "code",
   "execution_count": null,
   "metadata": {
    "collapsed": false
   },
   "outputs": [],
   "source": []
  },
  {
   "cell_type": "code",
   "execution_count": null,
   "metadata": {
    "collapsed": false
   },
   "outputs": [],
   "source": []
  },
  {
   "cell_type": "code",
   "execution_count": null,
   "metadata": {
    "collapsed": false
   },
   "outputs": [],
   "source": []
  },
  {
   "cell_type": "code",
   "execution_count": null,
   "metadata": {
    "collapsed": false
   },
   "outputs": [],
   "source": []
  },
  {
   "cell_type": "code",
   "execution_count": 42,
   "metadata": {
    "collapsed": false
   },
   "outputs": [
    {
     "name": "stdout",
     "output_type": "stream",
     "text": [
      "Driver:  GTiff / GeoTIFF\n",
      "Size is  5261 x 2331 x 1\n",
      "Projection is  GEOGCS[\"WGS 84\",DATUM[\"WGS_1984\",SPHEROID[\"WGS 84\",6378137,298.257223563,AUTHORITY[\"EPSG\",\"7030\"]],AUTHORITY[\"EPSG\",\"6326\"]],PRIMEM[\"Greenwich\",0],UNIT[\"degree\",0.0174532925199433],AUTHORITY[\"EPSG\",\"4326\"]]\n",
      "Origin = ( 5.863303859448117 , 47.887391165843454 )\n",
      "Pixel Size = ( 0.0008983152841195215 , -0.0008983152841195215 )\n"
     ]
    }
   ],
   "source": [
    "dataset = gdal.Open( \"data/dilatationNDBI.tif\" )\n",
    "\n",
    "\n",
    "print('Driver: ', dataset.GetDriver().ShortName,'/', \\\n",
    "      dataset.GetDriver().LongName)\n",
    "print( 'Size is ',dataset.RasterXSize,'x',dataset.RasterYSize, \\\n",
    "      'x',dataset.RasterCount)\n",
    "print( 'Projection is ',dataset.GetProjection())\n",
    "geotransform = dataset.GetGeoTransform()\n",
    "if not geotransform is None:\n",
    "    print( 'Origin = (',geotransform[0], ',',geotransform[3],')')\n",
    "    print( 'Pixel Size = (',geotransform[1], ',',geotransform[5],')')"
   ]
  },
  {
   "cell_type": "code",
   "execution_count": 71,
   "metadata": {
    "collapsed": false
   },
   "outputs": [
    {
     "name": "stdout",
     "output_type": "stream",
     "text": [
      "(2331, 5261)\n",
      "5261\n",
      "topLeft: 5.863303859448117 47.887391165843454\n",
      "bottomRight: 10.589340569200921 45.79341823856085\n"
     ]
    }
   ],
   "source": [
    "srcband = dataset.GetRasterBand(1)\n",
    "#stats = srcband.GetStatistics( True, True )\n",
    "\n",
    "mask = srcband.ReadAsArray(0, 0, srcband.XSize, srcband.YSize)\n",
    "print(mask.shape)\n",
    "print(srcband.XSize)\n",
    "\n",
    "topleftX = geotransform[0]\n",
    "topleftY = geotransform[3]\n",
    "pixelsizeX = geotransform[1]\n",
    "pixelsizeY = geotransform[5]\n",
    "\n",
    "bottomrightX = topleftX+(pixelsizeX*dataset.RasterXSize)\n",
    "bottomrightY = topleftY+(pixelsizeY*dataset.RasterYSize)\n",
    "\n",
    "\n",
    "print(\"topLeft:\", topleftX, topleftY)\n",
    "print(\"bottomRight:\", bottomrightX, bottomrightY)\n",
    "\n",
    "\n"
   ]
  },
  {
   "cell_type": "code",
   "execution_count": 79,
   "metadata": {
    "collapsed": false
   },
   "outputs": [],
   "source": [
    "np.save(\"data/urban_mask.npy\", mask)"
   ]
  },
  {
   "cell_type": "code",
   "execution_count": 86,
   "metadata": {
    "collapsed": false
   },
   "outputs": [
    {
     "name": "stdout",
     "output_type": "stream",
     "text": [
      "9514097914\t2010-02-23 05:55:51\t7.43926\t46.9489\n",
      "\n",
      "['7.43926', '46.9489\\n']\n"
     ]
    }
   ],
   "source": [
    "mask = 'data/urban_mask.npy'\n",
    "data_path = 'data/cleaned.tsv'\n",
    "with open(data_path) as data:\n",
    "    i = 0\n",
    "    for line in data:\n",
    "        if i ==0:\n",
    "            i = i+1\n",
    "            print(line)\n",
    "            print(line.split('\\t')[2:])"
   ]
  },
  {
   "cell_type": "code",
   "execution_count": null,
   "metadata": {
    "collapsed": false
   },
   "outputs": [],
   "source": []
  },
  {
   "cell_type": "code",
   "execution_count": null,
   "metadata": {
    "collapsed": true
   },
   "outputs": [],
   "source": [
    "def getValue(long, lat): \n",
    "    xPos = int(1.0 * (long - topleftX) / (bottomrightX - topleftX) * srcband.XSize)\n",
    "    yPos = srcband.YSize-1  - int(1.0 * (lat - bottomrightY) / (topleftY - bottomrightY) * srcband.YSize)\n",
    "    if (xPos >= srcband.XSize or xPos < 0):\n",
    "        return False\n",
    "    if (yPos >= srcband.YSize or yPos < 0):\n",
    "        return False\n",
    "    return mask[yPos, xPos] == 0\n",
    "\n",
    "def getValueFrame(row): \n",
    "    long = row[\"longitude\"]\n",
    "    lat = row[\"latitude\"]\n",
    "    xPos = int(1.0 * (long - topleftX) / (bottomrightX - topleftX) * srcband.XSize)\n",
    "    yPos = srcband.YSize-1  - int(1.0 * (lat - bottomrightY) / (topleftY - bottomrightY) * srcband.YSize)\n",
    "    if (xPos >= srcband.XSize or xPos < 0):\n",
    "        return False\n",
    "    if (yPos >= srcband.YSize or yPos < 0):\n",
    "        return False\n",
    "    return mask[yPos, xPos] == 0\n"
   ]
  },
  {
   "cell_type": "code",
   "execution_count": 72,
   "metadata": {
    "collapsed": false
   },
   "outputs": [
    {
     "name": "stdout",
     "output_type": "stream",
     "text": [
      "No\n"
     ]
    }
   ],
   "source": [
    "if getValue(8,46.961):\n",
    "    print(\"Yes\")\n",
    "else:\n",
    "    print(\"No\")"
   ]
  },
  {
   "cell_type": "code",
   "execution_count": 73,
   "metadata": {
    "collapsed": false,
    "scrolled": true
   },
   "outputs": [
    {
     "data": {
      "text/html": [
       "<div>\n",
       "<table border=\"1\" class=\"dataframe\">\n",
       "  <thead>\n",
       "    <tr style=\"text-align: right;\">\n",
       "      <th></th>\n",
       "      <th>date</th>\n",
       "      <th>longitude</th>\n",
       "      <th>latitude</th>\n",
       "      <th>urban</th>\n",
       "      <th>used</th>\n",
       "    </tr>\n",
       "    <tr>\n",
       "      <th>0</th>\n",
       "      <th></th>\n",
       "      <th></th>\n",
       "      <th></th>\n",
       "      <th></th>\n",
       "      <th></th>\n",
       "    </tr>\n",
       "  </thead>\n",
       "  <tbody>\n",
       "    <tr>\n",
       "      <th>9514097914</th>\n",
       "      <td>2010-02-23 05:55:51</td>\n",
       "      <td>7.43926</td>\n",
       "      <td>46.9489</td>\n",
       "      <td>False</td>\n",
       "      <td>False</td>\n",
       "    </tr>\n",
       "    <tr>\n",
       "      <th>9514846412</th>\n",
       "      <td>2010-02-23 06:22:40</td>\n",
       "      <td>8.53781</td>\n",
       "      <td>47.3678</td>\n",
       "      <td>False</td>\n",
       "      <td>False</td>\n",
       "    </tr>\n",
       "    <tr>\n",
       "      <th>9516574359</th>\n",
       "      <td>2010-02-23 07:34:25</td>\n",
       "      <td>6.13396</td>\n",
       "      <td>46.1951</td>\n",
       "      <td>False</td>\n",
       "      <td>False</td>\n",
       "    </tr>\n",
       "    <tr>\n",
       "      <th>9516952605</th>\n",
       "      <td>2010-02-23 07:51:47</td>\n",
       "      <td>8.81749</td>\n",
       "      <td>47.2288</td>\n",
       "      <td>False</td>\n",
       "      <td>False</td>\n",
       "    </tr>\n",
       "    <tr>\n",
       "      <th>9517198943</th>\n",
       "      <td>2010-02-23 08:02:57</td>\n",
       "      <td>6.63254</td>\n",
       "      <td>46.5199</td>\n",
       "      <td>False</td>\n",
       "      <td>False</td>\n",
       "    </tr>\n",
       "  </tbody>\n",
       "</table>\n",
       "</div>"
      ],
      "text/plain": [
       "                           date  longitude  latitude  urban   used\n",
       "0                                                                 \n",
       "9514097914  2010-02-23 05:55:51    7.43926   46.9489  False  False\n",
       "9514846412  2010-02-23 06:22:40    8.53781   47.3678  False  False\n",
       "9516574359  2010-02-23 07:34:25    6.13396   46.1951  False  False\n",
       "9516952605  2010-02-23 07:51:47    8.81749   47.2288  False  False\n",
       "9517198943  2010-02-23 08:02:57    6.63254   46.5199  False  False"
      ]
     },
     "execution_count": 73,
     "metadata": {},
     "output_type": "execute_result"
    }
   ],
   "source": [
    "newdata = data\n",
    "newdata[\"used\"] = False\n",
    "newdata.head()"
   ]
  },
  {
   "cell_type": "code",
   "execution_count": null,
   "metadata": {
    "collapsed": false
   },
   "outputs": [],
   "source": []
  },
  {
   "cell_type": "code",
   "execution_count": 74,
   "metadata": {
    "collapsed": false
   },
   "outputs": [
    {
     "data": {
      "text/html": [
       "<div>\n",
       "<table border=\"1\" class=\"dataframe\">\n",
       "  <thead>\n",
       "    <tr style=\"text-align: right;\">\n",
       "      <th></th>\n",
       "      <th>date</th>\n",
       "      <th>longitude</th>\n",
       "      <th>latitude</th>\n",
       "      <th>urban</th>\n",
       "      <th>used</th>\n",
       "    </tr>\n",
       "    <tr>\n",
       "      <th>0</th>\n",
       "      <th></th>\n",
       "      <th></th>\n",
       "      <th></th>\n",
       "      <th></th>\n",
       "      <th></th>\n",
       "    </tr>\n",
       "  </thead>\n",
       "  <tbody>\n",
       "    <tr>\n",
       "      <th>9514097914</th>\n",
       "      <td>2010-02-23 05:55:51</td>\n",
       "      <td>7.43926</td>\n",
       "      <td>46.9489</td>\n",
       "      <td>False</td>\n",
       "      <td>False</td>\n",
       "    </tr>\n",
       "    <tr>\n",
       "      <th>9514846412</th>\n",
       "      <td>2010-02-23 06:22:40</td>\n",
       "      <td>8.53781</td>\n",
       "      <td>47.3678</td>\n",
       "      <td>False</td>\n",
       "      <td>False</td>\n",
       "    </tr>\n",
       "    <tr>\n",
       "      <th>9516574359</th>\n",
       "      <td>2010-02-23 07:34:25</td>\n",
       "      <td>6.13396</td>\n",
       "      <td>46.1951</td>\n",
       "      <td>False</td>\n",
       "      <td>False</td>\n",
       "    </tr>\n",
       "    <tr>\n",
       "      <th>9516952605</th>\n",
       "      <td>2010-02-23 07:51:47</td>\n",
       "      <td>8.81749</td>\n",
       "      <td>47.2288</td>\n",
       "      <td>False</td>\n",
       "      <td>False</td>\n",
       "    </tr>\n",
       "    <tr>\n",
       "      <th>9517198943</th>\n",
       "      <td>2010-02-23 08:02:57</td>\n",
       "      <td>6.63254</td>\n",
       "      <td>46.5199</td>\n",
       "      <td>False</td>\n",
       "      <td>False</td>\n",
       "    </tr>\n",
       "  </tbody>\n",
       "</table>\n",
       "</div>"
      ],
      "text/plain": [
       "                           date  longitude  latitude  urban   used\n",
       "0                                                                 \n",
       "9514097914  2010-02-23 05:55:51    7.43926   46.9489  False  False\n",
       "9514846412  2010-02-23 06:22:40    8.53781   47.3678  False  False\n",
       "9516574359  2010-02-23 07:34:25    6.13396   46.1951  False  False\n",
       "9516952605  2010-02-23 07:51:47    8.81749   47.2288  False  False\n",
       "9517198943  2010-02-23 08:02:57    6.63254   46.5199  False  False"
      ]
     },
     "execution_count": 74,
     "metadata": {},
     "output_type": "execute_result"
    }
   ],
   "source": [
    "newdata['used'] = newdata.apply (lambda row: getValueFrame(row),axis=1)\n",
    "    \n",
    "newdata.head()"
   ]
  },
  {
   "cell_type": "code",
   "execution_count": 89,
   "metadata": {
    "collapsed": false
   },
   "outputs": [
    {
     "data": {
      "text/plain": [
       "date         0.149538\n",
       "longitude    0.149538\n",
       "latitude     0.149538\n",
       "urban        0.149538\n",
       "used         0.149538\n",
       "dtype: float64"
      ]
     },
     "execution_count": 89,
     "metadata": {},
     "output_type": "execute_result"
    }
   ],
   "source": [
    "newdata[newdata['used'] == True].count()/newdata.count()"
   ]
  },
  {
   "cell_type": "code",
   "execution_count": 91,
   "metadata": {
    "collapsed": false
   },
   "outputs": [
    {
     "data": {
      "text/html": [
       "<div>\n",
       "<table border=\"1\" class=\"dataframe\">\n",
       "  <thead>\n",
       "    <tr style=\"text-align: right;\">\n",
       "      <th></th>\n",
       "      <th>date</th>\n",
       "      <th>longitude</th>\n",
       "      <th>latitude</th>\n",
       "      <th>used</th>\n",
       "    </tr>\n",
       "    <tr>\n",
       "      <th>0</th>\n",
       "      <th></th>\n",
       "      <th></th>\n",
       "      <th></th>\n",
       "      <th></th>\n",
       "    </tr>\n",
       "  </thead>\n",
       "  <tbody>\n",
       "    <tr>\n",
       "      <th>9514097914</th>\n",
       "      <td>2010-02-23 05:55:51</td>\n",
       "      <td>7.43926</td>\n",
       "      <td>46.9489</td>\n",
       "      <td>False</td>\n",
       "    </tr>\n",
       "    <tr>\n",
       "      <th>9514846412</th>\n",
       "      <td>2010-02-23 06:22:40</td>\n",
       "      <td>8.53781</td>\n",
       "      <td>47.3678</td>\n",
       "      <td>False</td>\n",
       "    </tr>\n",
       "    <tr>\n",
       "      <th>9516574359</th>\n",
       "      <td>2010-02-23 07:34:25</td>\n",
       "      <td>6.13396</td>\n",
       "      <td>46.1951</td>\n",
       "      <td>False</td>\n",
       "    </tr>\n",
       "    <tr>\n",
       "      <th>9516952605</th>\n",
       "      <td>2010-02-23 07:51:47</td>\n",
       "      <td>8.81749</td>\n",
       "      <td>47.2288</td>\n",
       "      <td>False</td>\n",
       "    </tr>\n",
       "    <tr>\n",
       "      <th>9517198943</th>\n",
       "      <td>2010-02-23 08:02:57</td>\n",
       "      <td>6.63254</td>\n",
       "      <td>46.5199</td>\n",
       "      <td>False</td>\n",
       "    </tr>\n",
       "  </tbody>\n",
       "</table>\n",
       "</div>"
      ],
      "text/plain": [
       "                           date  longitude  latitude   used\n",
       "0                                                          \n",
       "9514097914  2010-02-23 05:55:51    7.43926   46.9489  False\n",
       "9514846412  2010-02-23 06:22:40    8.53781   47.3678  False\n",
       "9516574359  2010-02-23 07:34:25    6.13396   46.1951  False\n",
       "9516952605  2010-02-23 07:51:47    8.81749   47.2288  False\n",
       "9517198943  2010-02-23 08:02:57    6.63254   46.5199  False"
      ]
     },
     "execution_count": 91,
     "metadata": {},
     "output_type": "execute_result"
    }
   ],
   "source": [
    "urbanized = newdata[[\"date\",\"longitude\",\"latitude\",\"used\"]]\n",
    "urbanized.head()"
   ]
  },
  {
   "cell_type": "code",
   "execution_count": 93,
   "metadata": {
    "collapsed": true
   },
   "outputs": [],
   "source": [
    "urbanized.to_csv(\"data/cleaned_with_urbanity.tsv\", sep=\"\\t\")"
   ]
  },
  {
   "cell_type": "code",
   "execution_count": 94,
   "metadata": {
    "collapsed": true
   },
   "outputs": [],
   "source": [
    "urbanized[urbanized[\"used\"] == True].to_csv(\"data/urban_jjmayor.tsv\", sep=\",\")"
   ]
  },
  {
   "cell_type": "code",
   "execution_count": 96,
   "metadata": {
    "collapsed": false
   },
   "outputs": [
    {
     "data": {
      "text/html": [
       "<div>\n",
       "<table border=\"1\" class=\"dataframe\">\n",
       "  <thead>\n",
       "    <tr style=\"text-align: right;\">\n",
       "      <th></th>\n",
       "      <th>date</th>\n",
       "      <th>longitude</th>\n",
       "      <th>latitude</th>\n",
       "      <th>used</th>\n",
       "    </tr>\n",
       "    <tr>\n",
       "      <th>0</th>\n",
       "      <th></th>\n",
       "      <th></th>\n",
       "      <th></th>\n",
       "      <th></th>\n",
       "    </tr>\n",
       "  </thead>\n",
       "  <tbody>\n",
       "    <tr>\n",
       "      <th>9564875001</th>\n",
       "      <td>2010-02-24 06:26:53</td>\n",
       "      <td>7.44237</td>\n",
       "      <td>46.8958</td>\n",
       "      <td>True</td>\n",
       "    </tr>\n",
       "    <tr>\n",
       "      <th>9571982009</th>\n",
       "      <td>2010-02-24 11:31:52</td>\n",
       "      <td>8.38014</td>\n",
       "      <td>47.3679</td>\n",
       "      <td>True</td>\n",
       "    </tr>\n",
       "    <tr>\n",
       "      <th>9575552318</th>\n",
       "      <td>2010-02-24 13:28:52</td>\n",
       "      <td>8.06674</td>\n",
       "      <td>46.3913</td>\n",
       "      <td>True</td>\n",
       "    </tr>\n",
       "    <tr>\n",
       "      <th>9575623646</th>\n",
       "      <td>2010-02-24 13:30:51</td>\n",
       "      <td>8.06763</td>\n",
       "      <td>46.3910</td>\n",
       "      <td>True</td>\n",
       "    </tr>\n",
       "    <tr>\n",
       "      <th>9587557928</th>\n",
       "      <td>2010-02-24 18:45:38</td>\n",
       "      <td>8.77847</td>\n",
       "      <td>47.2034</td>\n",
       "      <td>True</td>\n",
       "    </tr>\n",
       "  </tbody>\n",
       "</table>\n",
       "</div>"
      ],
      "text/plain": [
       "                           date  longitude  latitude  used\n",
       "0                                                         \n",
       "9564875001  2010-02-24 06:26:53    7.44237   46.8958  True\n",
       "9571982009  2010-02-24 11:31:52    8.38014   47.3679  True\n",
       "9575552318  2010-02-24 13:28:52    8.06674   46.3913  True\n",
       "9575623646  2010-02-24 13:30:51    8.06763   46.3910  True\n",
       "9587557928  2010-02-24 18:45:38    8.77847   47.2034  True"
      ]
     },
     "execution_count": 96,
     "metadata": {},
     "output_type": "execute_result"
    }
   ],
   "source": [
    "non_urban = urbanized[urbanized[\"used\"] == True].copy()\n",
    "non_urban.head()"
   ]
  },
  {
   "cell_type": "code",
   "execution_count": null,
   "metadata": {
    "collapsed": true
   },
   "outputs": [],
   "source": [
    "\"\"\"from sklearn.cluster import KMeans\n",
    "kmeans = KMeans(init='k-means++', n_clusters=100, n_init=1, max_iter=10, n_jobs = 4)\n",
    "kmeans.fit(localisation)\n",
    "print(\"It's over!\")\n",
    "\n",
    "import matplotlib.pyplot as plt\n",
    "plt.figure(1)\n",
    "\n",
    "# Plot the centroids as a white X\n",
    "centroids = kmeans.cluster_centers_\n",
    "plt.scatter(centroids[:, 0], centroids[:, 1])\n",
    "plt.title('K-means clustering on the digits dataset (PCA-reduced data)\\n'\n",
    "          'Centroids are marked with white cross')\n",
    "plt.xlim(45, 49)\n",
    "plt.ylim(5, 11)\n",
    "plt.show()\"\"\""
   ]
  },
  {
   "cell_type": "code",
   "execution_count": 105,
   "metadata": {
    "collapsed": false
   },
   "outputs": [
    {
     "name": "stderr",
     "output_type": "stream",
     "text": [
      "/home/nathan/anaconda3/lib/python3.5/site-packages/sklearn/externals/joblib/hashing.py:197: DeprecationWarning: Changing the shape of non-C contiguous array by\n",
      "descriptor assignment is deprecated. To maintain\n",
      "the Fortran contiguity of a multidimensional Fortran\n",
      "array, use 'a.T.view(...).T' instead\n",
      "  obj_bytes_view = obj.view(self.np.uint8)\n"
     ]
    },
    {
     "name": "stdout",
     "output_type": "stream",
     "text": [
      "It's over!\n"
     ]
    }
   ],
   "source": [
    "from sklearn.cluster import KMeans\n",
    "kmeans = KMeans(init='k-means++', n_clusters=1000, n_init=1, max_iter=10, n_jobs = 4)\n",
    "kmeans.fit(non_urban[[\"longitude\",\"latitude\"]])\n",
    "print(\"It's over!\")\n"
   ]
  },
  {
   "cell_type": "code",
   "execution_count": 106,
   "metadata": {
    "collapsed": false
   },
   "outputs": [],
   "source": [
    "\n",
    "import matplotlib.pyplot as plt\n",
    "plt.figure(1)\n",
    "\n",
    "# Plot the centroids as a white X\n",
    "centroids = kmeans.cluster_centers_\n",
    "plt.xlim(45, 49)\n",
    "plt.ylim(5, 11)\n",
    "plt.scatter(centroids[:, 1], centroids[:, 0])\n",
    "plt.show()"
   ]
  },
  {
   "cell_type": "code",
   "execution_count": 107,
   "metadata": {
    "collapsed": false
   },
   "outputs": [
    {
     "data": {
      "text/plain": [
       "array([[  8.80982957,  47.08625854],\n",
       "       [  6.66646296,  46.62231439],\n",
       "       [  9.82554179,  46.79613678],\n",
       "       ..., \n",
       "       [  7.35993138,  46.61889328],\n",
       "       [  9.72760808,  45.86711647],\n",
       "       [  7.4876492 ,  46.45049045]])"
      ]
     },
     "execution_count": 107,
     "metadata": {},
     "output_type": "execute_result"
    }
   ],
   "source": [
    "centroids"
   ]
  },
  {
   "cell_type": "code",
   "execution_count": 135,
   "metadata": {
    "collapsed": false
   },
   "outputs": [
    {
     "data": {
      "text/plain": [
       "array([677,  35, 564, ..., 269, 317, 219], dtype=int32)"
      ]
     },
     "execution_count": 135,
     "metadata": {},
     "output_type": "execute_result"
    }
   ],
   "source": [
    "np_array = non_urban[[\"longitude\",\"latitude\"]].as_matrix()\n",
    "np_array.shape"
   ]
  },
  {
   "cell_type": "code",
   "execution_count": 156,
   "metadata": {
    "collapsed": false
   },
   "outputs": [],
   "source": [
    "step = 100000\n",
    "predictions = [[]]\n",
    "\n",
    "for i in range(int(np_array.shape[0]/step)):\n",
    "    if i == 0:\n",
    "        predictions = kmeans.predict(np_array[i*step:(i+1)*step])\n",
    "    else :\n",
    "        predictions = np.concatenate([predictions, kmeans.predict(np_array[i*step:(i+1)*step])])"
   ]
  },
  {
   "cell_type": "code",
   "execution_count": 157,
   "metadata": {
    "collapsed": false
   },
   "outputs": [],
   "source": [
    "i = i+1\n",
    "predictions = np.concatenate([predictions, kmeans.predict(np_array[i*step:(i+1)*step])])"
   ]
  },
  {
   "cell_type": "code",
   "execution_count": 166,
   "metadata": {
    "collapsed": false
   },
   "outputs": [
    {
     "data": {
      "text/plain": [
       "(1860033,)"
      ]
     },
     "execution_count": 166,
     "metadata": {},
     "output_type": "execute_result"
    }
   ],
   "source": [
    "predictions.shape"
   ]
  },
  {
   "cell_type": "code",
   "execution_count": 168,
   "metadata": {
    "collapsed": false
   },
   "outputs": [
    {
     "data": {
      "text/plain": [
       "array([677,  35, 564, ..., 490, 701, 701], dtype=int32)"
      ]
     },
     "execution_count": 168,
     "metadata": {},
     "output_type": "execute_result"
    }
   ],
   "source": [
    "predictions"
   ]
  },
  {
   "cell_type": "code",
   "execution_count": 169,
   "metadata": {
    "collapsed": false
   },
   "outputs": [],
   "source": [
    "np.savetxt(\"data/cluster_assign.csv\", predictions.astype(int), fmt='%d')"
   ]
  },
  {
   "cell_type": "code",
   "execution_count": 171,
   "metadata": {
    "collapsed": false
   },
   "outputs": [
    {
     "data": {
      "text/html": [
       "<div>\n",
       "<table border=\"1\" class=\"dataframe\">\n",
       "  <thead>\n",
       "    <tr style=\"text-align: right;\">\n",
       "      <th></th>\n",
       "      <th>date</th>\n",
       "      <th>longitude</th>\n",
       "      <th>latitude</th>\n",
       "      <th>used</th>\n",
       "      <th>cluster</th>\n",
       "    </tr>\n",
       "    <tr>\n",
       "      <th>0</th>\n",
       "      <th></th>\n",
       "      <th></th>\n",
       "      <th></th>\n",
       "      <th></th>\n",
       "      <th></th>\n",
       "    </tr>\n",
       "  </thead>\n",
       "  <tbody>\n",
       "    <tr>\n",
       "      <th>9564875001</th>\n",
       "      <td>2010-02-24 06:26:53</td>\n",
       "      <td>7.44237</td>\n",
       "      <td>46.8958</td>\n",
       "      <td>True</td>\n",
       "      <td>677</td>\n",
       "    </tr>\n",
       "    <tr>\n",
       "      <th>9571982009</th>\n",
       "      <td>2010-02-24 11:31:52</td>\n",
       "      <td>8.38014</td>\n",
       "      <td>47.3679</td>\n",
       "      <td>True</td>\n",
       "      <td>35</td>\n",
       "    </tr>\n",
       "    <tr>\n",
       "      <th>9575552318</th>\n",
       "      <td>2010-02-24 13:28:52</td>\n",
       "      <td>8.06674</td>\n",
       "      <td>46.3913</td>\n",
       "      <td>True</td>\n",
       "      <td>564</td>\n",
       "    </tr>\n",
       "    <tr>\n",
       "      <th>9575623646</th>\n",
       "      <td>2010-02-24 13:30:51</td>\n",
       "      <td>8.06763</td>\n",
       "      <td>46.3910</td>\n",
       "      <td>True</td>\n",
       "      <td>564</td>\n",
       "    </tr>\n",
       "    <tr>\n",
       "      <th>9587557928</th>\n",
       "      <td>2010-02-24 18:45:38</td>\n",
       "      <td>8.77847</td>\n",
       "      <td>47.2034</td>\n",
       "      <td>True</td>\n",
       "      <td>119</td>\n",
       "    </tr>\n",
       "  </tbody>\n",
       "</table>\n",
       "</div>"
      ],
      "text/plain": [
       "                           date  longitude  latitude  used  cluster\n",
       "0                                                                  \n",
       "9564875001  2010-02-24 06:26:53    7.44237   46.8958  True      677\n",
       "9571982009  2010-02-24 11:31:52    8.38014   47.3679  True       35\n",
       "9575552318  2010-02-24 13:28:52    8.06674   46.3913  True      564\n",
       "9575623646  2010-02-24 13:30:51    8.06763   46.3910  True      564\n",
       "9587557928  2010-02-24 18:45:38    8.77847   47.2034  True      119"
      ]
     },
     "execution_count": 171,
     "metadata": {},
     "output_type": "execute_result"
    }
   ],
   "source": [
    "non_urban[\"cluster\"] = predictions\n",
    "non_urban.head()"
   ]
  },
  {
   "cell_type": "code",
   "execution_count": 172,
   "metadata": {
    "collapsed": true
   },
   "outputs": [],
   "source": [
    "non_urban.to_csv(\"data/cleaned_non_urban_clusterized.tsv\", sep=\"\\t\")"
   ]
  },
  {
   "cell_type": "code",
   "execution_count": null,
   "metadata": {
    "collapsed": true
   },
   "outputs": [],
   "source": []
  }
 ],
 "metadata": {
  "anaconda-cloud": {},
  "kernelspec": {
   "display_name": "Python [Root]",
   "language": "python",
   "name": "Python [Root]"
  },
  "language_info": {
   "codemirror_mode": {
    "name": "ipython",
    "version": 3
   },
   "file_extension": ".py",
   "mimetype": "text/x-python",
   "name": "python",
   "nbconvert_exporter": "python",
   "pygments_lexer": "ipython3",
   "version": "3.5.2"
  }
 },
 "nbformat": 4,
 "nbformat_minor": 0
}

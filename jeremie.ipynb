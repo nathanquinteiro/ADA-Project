{
 "cells": [
  {
   "cell_type": "code",
   "execution_count": 1,
   "metadata": {
    "collapsed": true
   },
   "outputs": [],
   "source": [
    "import os\n",
    "import json\n",
    "import pandas as pd\n",
    "import csv\n",
    "\n",
    "%matplotlib inline\n",
    "\n",
    "import numpy as np\n",
    "import scipy.stats as stats\n",
    "import folium\n",
    "import geopy\n",
    "import geocoder\n",
    "import time\n",
    "from IPython.display import IFrame\n",
    "from geopy.geocoders import Nominatim\n",
    "from branca.colormap import *\n",
    "#pip install python-google-places\n",
    "from googleplaces import GooglePlaces, types, lang"
   ]
  },
  {
   "cell_type": "code",
   "execution_count": 4,
   "metadata": {
    "collapsed": true
   },
   "outputs": [],
   "source": [
    "path = 'data/sample.tsv'\n",
    "nb_fields = 20"
   ]
  },
  {
   "cell_type": "code",
   "execution_count": 28,
   "metadata": {
    "collapsed": false
   },
   "outputs": [
    {
     "name": "stdout",
     "output_type": "stream",
     "text": [
      "['id', 'userId', 'createdAt', 'text', 'longitude', 'latitude', 'placeId', 'inReplyTo', 'source', 'truncated', 'placeLatitude', 'placeLongitude', 'sourceName', 'sourceUrl', 'userName', 'screenName', 'followersCount', 'friendsCount', 'statusesCount', 'userLocation']\n"
     ]
    }
   ],
   "source": [
    "ids = \"\"\n",
    "with open(\"data/schema.txt\", \"r\") as schema:\n",
    "    content = schema.readlines()\n",
    "    for line in content:\n",
    "        if(ids == \"\"):\n",
    "            ids = ids + (line.split(\"    \")[1])\n",
    "        else:\n",
    "            ids = ids + \" \" + (line.split(\"    \")[1])\n",
    "idsList = list(ids.split(\" \"))\n",
    "print(idsList)"
   ]
  },
  {
   "cell_type": "code",
   "execution_count": null,
   "metadata": {
    "collapsed": true
   },
   "outputs": [],
   "source": []
  },
  {
   "cell_type": "code",
   "execution_count": 29,
   "metadata": {
    "collapsed": false
   },
   "outputs": [],
   "source": [
    "cleanedPath = \"data/sample_cleaned.tsv\"\n",
    "with open(path) as infile:\n",
    "    with open(cleanedPath, \"w\") as outputfile:\n",
    "        i=0\n",
    "        for line in infile:\n",
    "            i = i+1\n",
    "            if i%200000 == 0:\n",
    "                print(\"line:\", i)\n",
    "            line_array = line.split(\"\\t\")\n",
    "            if(len(line_array) == nb_fields):\n",
    "                if line_array[4] != \"\\\\N\":\n",
    "                    outputfile.write(line_array[0])\n",
    "                    outputfile.write(\"\\t\")\n",
    "                    outputfile.write(line_array[2])\n",
    "                    outputfile.write(\"\\t\")\n",
    "                    outputfile.write(line_array[4])\n",
    "                    outputfile.write(\"\\t\")\n",
    "                    outputfile.write(line_array[5])\n",
    "                    outputfile.write(\"\\n\")\n",
    "        outputfile.close()\n",
    "    infile.close()"
   ]
  },
  {
   "cell_type": "code",
   "execution_count": 32,
   "metadata": {
    "collapsed": false
   },
   "outputs": [],
   "source": [
    "#data = pd.DataFrame.from_csv(cleanedPath, sep=\"\\t\")\n",
    "data = pd.read_csv(cleanedPath, sep=\"\\t\",header=None, names=['Date', 'Latitude', 'Longitude'])\n"
   ]
  },
  {
   "cell_type": "code",
   "execution_count": 33,
   "metadata": {
    "collapsed": false
   },
   "outputs": [
    {
     "data": {
      "text/html": [
       "<div>\n",
       "<table border=\"1\" class=\"dataframe\">\n",
       "  <thead>\n",
       "    <tr style=\"text-align: right;\">\n",
       "      <th></th>\n",
       "      <th>Date</th>\n",
       "      <th>Latitude</th>\n",
       "      <th>Longitude</th>\n",
       "    </tr>\n",
       "  </thead>\n",
       "  <tbody>\n",
       "    <tr>\n",
       "      <th>776523058504925185</th>\n",
       "      <td>2016-09-15 20:48:18</td>\n",
       "      <td>6.14414</td>\n",
       "      <td>46.1966</td>\n",
       "    </tr>\n",
       "    <tr>\n",
       "      <th>776523388911255552</th>\n",
       "      <td>2016-09-15 20:49:37</td>\n",
       "      <td>8.95092</td>\n",
       "      <td>46.0060</td>\n",
       "    </tr>\n",
       "    <tr>\n",
       "      <th>776523419261087744</th>\n",
       "      <td>2016-09-15 20:49:44</td>\n",
       "      <td>6.81899</td>\n",
       "      <td>47.1003</td>\n",
       "    </tr>\n",
       "    <tr>\n",
       "      <th>776523645514608641</th>\n",
       "      <td>2016-09-15 20:50:38</td>\n",
       "      <td>8.94542</td>\n",
       "      <td>45.9915</td>\n",
       "    </tr>\n",
       "    <tr>\n",
       "      <th>776523844483846144</th>\n",
       "      <td>2016-09-15 20:51:26</td>\n",
       "      <td>5.99278</td>\n",
       "      <td>47.2763</td>\n",
       "    </tr>\n",
       "  </tbody>\n",
       "</table>\n",
       "</div>"
      ],
      "text/plain": [
       "                                   Date  Latitude  Longitude\n",
       "776523058504925185  2016-09-15 20:48:18   6.14414    46.1966\n",
       "776523388911255552  2016-09-15 20:49:37   8.95092    46.0060\n",
       "776523419261087744  2016-09-15 20:49:44   6.81899    47.1003\n",
       "776523645514608641  2016-09-15 20:50:38   8.94542    45.9915\n",
       "776523844483846144  2016-09-15 20:51:26   5.99278    47.2763"
      ]
     },
     "execution_count": 33,
     "metadata": {},
     "output_type": "execute_result"
    }
   ],
   "source": [
    "data.head()"
   ]
  },
  {
   "cell_type": "code",
   "execution_count": 34,
   "metadata": {
    "collapsed": false
   },
   "outputs": [],
   "source": [
    "data_without_date = data.drop(['Date'],axis=1)"
   ]
  },
  {
   "cell_type": "code",
   "execution_count": 35,
   "metadata": {
    "collapsed": false
   },
   "outputs": [
    {
     "data": {
      "text/html": [
       "<div>\n",
       "<table border=\"1\" class=\"dataframe\">\n",
       "  <thead>\n",
       "    <tr style=\"text-align: right;\">\n",
       "      <th></th>\n",
       "      <th>Latitude</th>\n",
       "      <th>Longitude</th>\n",
       "    </tr>\n",
       "  </thead>\n",
       "  <tbody>\n",
       "    <tr>\n",
       "      <th>776523058504925185</th>\n",
       "      <td>6.14414</td>\n",
       "      <td>46.1966</td>\n",
       "    </tr>\n",
       "    <tr>\n",
       "      <th>776523388911255552</th>\n",
       "      <td>8.95092</td>\n",
       "      <td>46.0060</td>\n",
       "    </tr>\n",
       "    <tr>\n",
       "      <th>776523419261087744</th>\n",
       "      <td>6.81899</td>\n",
       "      <td>47.1003</td>\n",
       "    </tr>\n",
       "    <tr>\n",
       "      <th>776523645514608641</th>\n",
       "      <td>8.94542</td>\n",
       "      <td>45.9915</td>\n",
       "    </tr>\n",
       "    <tr>\n",
       "      <th>776523844483846144</th>\n",
       "      <td>5.99278</td>\n",
       "      <td>47.2763</td>\n",
       "    </tr>\n",
       "  </tbody>\n",
       "</table>\n",
       "</div>"
      ],
      "text/plain": [
       "                    Latitude  Longitude\n",
       "776523058504925185   6.14414    46.1966\n",
       "776523388911255552   8.95092    46.0060\n",
       "776523419261087744   6.81899    47.1003\n",
       "776523645514608641   8.94542    45.9915\n",
       "776523844483846144   5.99278    47.2763"
      ]
     },
     "execution_count": 35,
     "metadata": {},
     "output_type": "execute_result"
    }
   ],
   "source": [
    "data_without_date.head()"
   ]
  },
  {
   "cell_type": "code",
   "execution_count": 36,
   "metadata": {
    "collapsed": false
   },
   "outputs": [],
   "source": [
    "#cleanedPathNoDate = \"data/sample_no_date_cleaned.tsv\"\n",
    "#data_without_date.to_csv(cleanedPathNoDate)"
   ]
  },
  {
   "cell_type": "markdown",
   "metadata": {},
   "source": [
    "#### Reload to frame"
   ]
  },
  {
   "cell_type": "code",
   "execution_count": 37,
   "metadata": {
    "collapsed": false
   },
   "outputs": [],
   "source": [
    "#dataReloaded = pd.read_csv(cleanedPathNoDate, sep=\",\", header=0, names=['Latitude', 'Longitude'])\n",
    "#dataReloaded.head()"
   ]
  },
  {
   "cell_type": "code",
   "execution_count": 38,
   "metadata": {
    "collapsed": false
   },
   "outputs": [],
   "source": [
    "#data_without_date.head()"
   ]
  },
  {
   "cell_type": "code",
   "execution_count": 39,
   "metadata": {
    "collapsed": false
   },
   "outputs": [],
   "source": [
    "#data_without_date_without_id = data_without_date.drop(['ID'],axis=1)"
   ]
  },
  {
   "cell_type": "code",
   "execution_count": 40,
   "metadata": {
    "collapsed": false
   },
   "outputs": [
    {
     "data": {
      "text/html": [
       "<div>\n",
       "<table border=\"1\" class=\"dataframe\">\n",
       "  <thead>\n",
       "    <tr style=\"text-align: right;\">\n",
       "      <th></th>\n",
       "      <th>Latitude</th>\n",
       "      <th>Longitude</th>\n",
       "    </tr>\n",
       "  </thead>\n",
       "  <tbody>\n",
       "    <tr>\n",
       "      <th>0</th>\n",
       "      <td>6.14414</td>\n",
       "      <td>46.1966</td>\n",
       "    </tr>\n",
       "    <tr>\n",
       "      <th>1</th>\n",
       "      <td>8.95092</td>\n",
       "      <td>46.0060</td>\n",
       "    </tr>\n",
       "    <tr>\n",
       "      <th>2</th>\n",
       "      <td>6.81899</td>\n",
       "      <td>47.1003</td>\n",
       "    </tr>\n",
       "    <tr>\n",
       "      <th>3</th>\n",
       "      <td>8.94542</td>\n",
       "      <td>45.9915</td>\n",
       "    </tr>\n",
       "    <tr>\n",
       "      <th>4</th>\n",
       "      <td>5.99278</td>\n",
       "      <td>47.2763</td>\n",
       "    </tr>\n",
       "  </tbody>\n",
       "</table>\n",
       "</div>"
      ],
      "text/plain": [
       "   Latitude  Longitude\n",
       "0   6.14414    46.1966\n",
       "1   8.95092    46.0060\n",
       "2   6.81899    47.1003\n",
       "3   8.94542    45.9915\n",
       "4   5.99278    47.2763"
      ]
     },
     "execution_count": 40,
     "metadata": {},
     "output_type": "execute_result"
    }
   ],
   "source": [
    "data_without_date_without_id.head()"
   ]
  },
  {
   "cell_type": "code",
   "execution_count": 43,
   "metadata": {
    "collapsed": false
   },
   "outputs": [],
   "source": [
    "cleanedPathOnlyLoc = \"data/sample_loc_cleaned.tsv\"\n",
    "data_without_date_without_id.to_csv(cleanedPathOnlyLoc,index=False,header=False)"
   ]
  },
  {
   "cell_type": "markdown",
   "metadata": {
    "collapsed": false
   },
   "source": [
    "# All data"
   ]
  },
  {
   "cell_type": "code",
   "execution_count": 3,
   "metadata": {
    "collapsed": true
   },
   "outputs": [],
   "source": [
    "cleanedPath = \"data/urban_jjmayor.tsv\"\n",
    "cleanedPathToSpark =\"data/urban_loc_only.tsv\""
   ]
  },
  {
   "cell_type": "code",
   "execution_count": 10,
   "metadata": {
    "collapsed": false
   },
   "outputs": [],
   "source": [
    "#data = pd.read_csv(cleanedPath, sep=\"\\t\",header=None, names=['Date', 'Latitude', 'Longitude'])\n",
    "data = pd.read_csv(cleanedPath, sep=\",\",header=0)"
   ]
  },
  {
   "cell_type": "code",
   "execution_count": 11,
   "metadata": {
    "collapsed": false
   },
   "outputs": [
    {
     "data": {
      "text/html": [
       "<div>\n",
       "<table border=\"1\" class=\"dataframe\">\n",
       "  <thead>\n",
       "    <tr style=\"text-align: right;\">\n",
       "      <th></th>\n",
       "      <th>0</th>\n",
       "      <th>date</th>\n",
       "      <th>longitude</th>\n",
       "      <th>latitude</th>\n",
       "      <th>used</th>\n",
       "    </tr>\n",
       "  </thead>\n",
       "  <tbody>\n",
       "    <tr>\n",
       "      <th>0</th>\n",
       "      <td>9564875001</td>\n",
       "      <td>2010-02-24 06:26:53</td>\n",
       "      <td>7.44237</td>\n",
       "      <td>46.8958</td>\n",
       "      <td>True</td>\n",
       "    </tr>\n",
       "    <tr>\n",
       "      <th>1</th>\n",
       "      <td>9571982009</td>\n",
       "      <td>2010-02-24 11:31:52</td>\n",
       "      <td>8.38014</td>\n",
       "      <td>47.3679</td>\n",
       "      <td>True</td>\n",
       "    </tr>\n",
       "    <tr>\n",
       "      <th>2</th>\n",
       "      <td>9575552318</td>\n",
       "      <td>2010-02-24 13:28:52</td>\n",
       "      <td>8.06674</td>\n",
       "      <td>46.3913</td>\n",
       "      <td>True</td>\n",
       "    </tr>\n",
       "    <tr>\n",
       "      <th>3</th>\n",
       "      <td>9575623646</td>\n",
       "      <td>2010-02-24 13:30:51</td>\n",
       "      <td>8.06763</td>\n",
       "      <td>46.3910</td>\n",
       "      <td>True</td>\n",
       "    </tr>\n",
       "    <tr>\n",
       "      <th>4</th>\n",
       "      <td>9587557928</td>\n",
       "      <td>2010-02-24 18:45:38</td>\n",
       "      <td>8.77847</td>\n",
       "      <td>47.2034</td>\n",
       "      <td>True</td>\n",
       "    </tr>\n",
       "  </tbody>\n",
       "</table>\n",
       "</div>"
      ],
      "text/plain": [
       "            0                 date  longitude  latitude  used\n",
       "0  9564875001  2010-02-24 06:26:53    7.44237   46.8958  True\n",
       "1  9571982009  2010-02-24 11:31:52    8.38014   47.3679  True\n",
       "2  9575552318  2010-02-24 13:28:52    8.06674   46.3913  True\n",
       "3  9575623646  2010-02-24 13:30:51    8.06763   46.3910  True\n",
       "4  9587557928  2010-02-24 18:45:38    8.77847   47.2034  True"
      ]
     },
     "execution_count": 11,
     "metadata": {},
     "output_type": "execute_result"
    }
   ],
   "source": [
    "data.head()"
   ]
  },
  {
   "cell_type": "code",
   "execution_count": 17,
   "metadata": {
    "collapsed": true
   },
   "outputs": [],
   "source": [
    "#data_without_date = data.drop(['Date'],axis=1)\n",
    "data_without_date = data.drop(['date'],axis=1).drop(['used'],axis=1).drop(['0'],axis=1)\n",
    "\n"
   ]
  },
  {
   "cell_type": "code",
   "execution_count": 18,
   "metadata": {
    "collapsed": true
   },
   "outputs": [],
   "source": [
    "data_without_date.to_csv(cleanedPathToSpark,index=False,header=False)"
   ]
  },
  {
   "cell_type": "code",
   "execution_count": 19,
   "metadata": {
    "collapsed": false
   },
   "outputs": [
    {
     "data": {
      "text/html": [
       "<div>\n",
       "<table border=\"1\" class=\"dataframe\">\n",
       "  <thead>\n",
       "    <tr style=\"text-align: right;\">\n",
       "      <th></th>\n",
       "      <th>longitude</th>\n",
       "      <th>latitude</th>\n",
       "    </tr>\n",
       "  </thead>\n",
       "  <tbody>\n",
       "    <tr>\n",
       "      <th>0</th>\n",
       "      <td>7.44237</td>\n",
       "      <td>46.8958</td>\n",
       "    </tr>\n",
       "    <tr>\n",
       "      <th>1</th>\n",
       "      <td>8.38014</td>\n",
       "      <td>47.3679</td>\n",
       "    </tr>\n",
       "    <tr>\n",
       "      <th>2</th>\n",
       "      <td>8.06674</td>\n",
       "      <td>46.3913</td>\n",
       "    </tr>\n",
       "    <tr>\n",
       "      <th>3</th>\n",
       "      <td>8.06763</td>\n",
       "      <td>46.3910</td>\n",
       "    </tr>\n",
       "    <tr>\n",
       "      <th>4</th>\n",
       "      <td>8.77847</td>\n",
       "      <td>47.2034</td>\n",
       "    </tr>\n",
       "  </tbody>\n",
       "</table>\n",
       "</div>"
      ],
      "text/plain": [
       "   longitude  latitude\n",
       "0    7.44237   46.8958\n",
       "1    8.38014   47.3679\n",
       "2    8.06674   46.3913\n",
       "3    8.06763   46.3910\n",
       "4    8.77847   47.2034"
      ]
     },
     "execution_count": 19,
     "metadata": {},
     "output_type": "execute_result"
    }
   ],
   "source": [
    "data_without_date.head()"
   ]
  },
  {
   "cell_type": "markdown",
   "metadata": {
    "collapsed": true
   },
   "source": [
    "# Center"
   ]
  },
  {
   "cell_type": "code",
   "execution_count": 4,
   "metadata": {
    "collapsed": true
   },
   "outputs": [],
   "source": [
    "path_center = 'data/r1/centerfull.csv'\n"
   ]
  },
  {
   "cell_type": "code",
   "execution_count": 15,
   "metadata": {
    "collapsed": true
   },
   "outputs": [],
   "source": [
    "data_center = pd.read_csv(path_center, sep=\",\",header=None, names=['Longitude','Latitude'])"
   ]
  },
  {
   "cell_type": "code",
   "execution_count": 16,
   "metadata": {
    "collapsed": false
   },
   "outputs": [
    {
     "data": {
      "text/html": [
       "<div>\n",
       "<table border=\"1\" class=\"dataframe\">\n",
       "  <thead>\n",
       "    <tr style=\"text-align: right;\">\n",
       "      <th></th>\n",
       "      <th>Longitude</th>\n",
       "      <th>Latitude</th>\n",
       "    </tr>\n",
       "  </thead>\n",
       "  <tbody>\n",
       "    <tr>\n",
       "      <th>0</th>\n",
       "      <td>6.1077</td>\n",
       "      <td>46.2308</td>\n",
       "    </tr>\n",
       "    <tr>\n",
       "      <th>1</th>\n",
       "      <td>9.5167</td>\n",
       "      <td>46.9333</td>\n",
       "    </tr>\n",
       "    <tr>\n",
       "      <th>2</th>\n",
       "      <td>6.8894</td>\n",
       "      <td>46.3408</td>\n",
       "    </tr>\n",
       "    <tr>\n",
       "      <th>3</th>\n",
       "      <td>6.8894</td>\n",
       "      <td>46.3408</td>\n",
       "    </tr>\n",
       "    <tr>\n",
       "      <th>4</th>\n",
       "      <td>9.0818</td>\n",
       "      <td>45.8132</td>\n",
       "    </tr>\n",
       "  </tbody>\n",
       "</table>\n",
       "</div>"
      ],
      "text/plain": [
       "   Longitude  Latitude\n",
       "0     6.1077   46.2308\n",
       "1     9.5167   46.9333\n",
       "2     6.8894   46.3408\n",
       "3     6.8894   46.3408\n",
       "4     9.0818   45.8132"
      ]
     },
     "execution_count": 16,
     "metadata": {},
     "output_type": "execute_result"
    }
   ],
   "source": [
    "data_center.head()"
   ]
  },
  {
   "cell_type": "code",
   "execution_count": 18,
   "metadata": {
    "collapsed": false
   },
   "outputs": [],
   "source": [
    "#ch_cantons = os.path.join('data', 'ch-cantons.topojson.json')\n",
    "#topo_json_data = json.load(open(ch_cantons))\n",
    "Swiss_map = folium.Map([46.232532, 7.361059], zoom_start=9)\n",
    "\n",
    "'''folium.TopoJson(open(ch_cantons),\n",
    "                'objects.cantons',\n",
    "                style_function=lambda feature: {\n",
    "        'fillColor': '#ffffff',\n",
    "        'color': 'black',\n",
    "        'weight': 2,\n",
    "        'dashArray': '5, 5'\n",
    "    }).add_to(Swiss_map)'''\n",
    "\n",
    "for x in range(0, data_center.shape[0]):\n",
    "#for x in range(0, 50):\n",
    "#    folium.Marker([sampleReade.lat[x], sampleReade.long[x]], popup=str(university)).add_to(Swiss_map)\n",
    "    folium.Marker([data_center.Latitude[x], data_center.Longitude[x]]).add_to(Swiss_map)\n",
    "Swiss_map.save('center.html')      \n"
   ]
  },
  {
   "cell_type": "code",
   "execution_count": 8,
   "metadata": {
    "collapsed": false
   },
   "outputs": [
    {
     "data": {
      "text/plain": [
       "0       6.1077\n",
       "1       9.5167\n",
       "2       6.8894\n",
       "3       6.8894\n",
       "4       9.0818\n",
       "5       8.3051\n",
       "6       8.3066\n",
       "7       8.3957\n",
       "8       6.1428\n",
       "9       8.5363\n",
       "10      7.9075\n",
       "11      6.8650\n",
       "12      7.8228\n",
       "13      7.5770\n",
       "14      6.6369\n",
       "15      8.3056\n",
       "16      9.5208\n",
       "17      8.3139\n",
       "18      9.5097\n",
       "19      8.8330\n",
       "20      6.7125\n",
       "21      9.5052\n",
       "22      9.5170\n",
       "23      8.3139\n",
       "24      6.0818\n",
       "25      8.3056\n",
       "26      6.1066\n",
       "27      8.5727\n",
       "28      6.1031\n",
       "29      8.3165\n",
       "         ...  \n",
       "2470    8.3123\n",
       "2471    6.8894\n",
       "2472    9.7154\n",
       "2473    6.8667\n",
       "2474    8.5502\n",
       "2475    8.5378\n",
       "2476    6.1077\n",
       "2477    8.3453\n",
       "2478    6.1502\n",
       "2479    6.8894\n",
       "2480    8.5501\n",
       "2481    7.8566\n",
       "2482    6.1500\n",
       "2483    7.4474\n",
       "2484    8.5378\n",
       "2485    8.5500\n",
       "2486    6.1667\n",
       "2487    9.5475\n",
       "2488    8.5619\n",
       "2489    8.5616\n",
       "2490    9.0809\n",
       "2491    8.3048\n",
       "2492    8.3112\n",
       "2493    6.8595\n",
       "2494    8.3068\n",
       "2495    9.2710\n",
       "2496    6.1441\n",
       "2497    8.5470\n",
       "2498    8.3098\n",
       "2499    8.3032\n",
       "Name: Latitude, dtype: float64"
      ]
     },
     "execution_count": 8,
     "metadata": {},
     "output_type": "execute_result"
    }
   ],
   "source": [
    "data_center.Latitude"
   ]
  },
  {
   "cell_type": "code",
   "execution_count": null,
   "metadata": {
    "collapsed": true
   },
   "outputs": [],
   "source": []
  },
  {
   "cell_type": "code",
   "execution_count": null,
   "metadata": {
    "collapsed": true
   },
   "outputs": [],
   "source": []
  },
  {
   "cell_type": "code",
   "execution_count": null,
   "metadata": {
    "collapsed": true
   },
   "outputs": [],
   "source": []
  },
  {
   "cell_type": "code",
   "execution_count": null,
   "metadata": {
    "collapsed": true
   },
   "outputs": [],
   "source": []
  },
  {
   "cell_type": "code",
   "execution_count": null,
   "metadata": {
    "collapsed": true
   },
   "outputs": [],
   "source": []
  },
  {
   "cell_type": "code",
   "execution_count": null,
   "metadata": {
    "collapsed": true
   },
   "outputs": [],
   "source": []
  },
  {
   "cell_type": "code",
   "execution_count": null,
   "metadata": {
    "collapsed": true
   },
   "outputs": [],
   "source": []
  },
  {
   "cell_type": "code",
   "execution_count": null,
   "metadata": {
    "collapsed": true
   },
   "outputs": [],
   "source": []
  },
  {
   "cell_type": "code",
   "execution_count": null,
   "metadata": {
    "collapsed": true
   },
   "outputs": [],
   "source": []
  },
  {
   "cell_type": "code",
   "execution_count": null,
   "metadata": {
    "collapsed": true
   },
   "outputs": [],
   "source": []
  },
  {
   "cell_type": "code",
   "execution_count": null,
   "metadata": {
    "collapsed": true
   },
   "outputs": [],
   "source": []
  },
  {
   "cell_type": "code",
   "execution_count": null,
   "metadata": {
    "collapsed": true
   },
   "outputs": [],
   "source": []
  },
  {
   "cell_type": "code",
   "execution_count": null,
   "metadata": {
    "collapsed": true
   },
   "outputs": [],
   "source": []
  },
  {
   "cell_type": "code",
   "execution_count": null,
   "metadata": {
    "collapsed": true
   },
   "outputs": [],
   "source": []
  },
  {
   "cell_type": "code",
   "execution_count": null,
   "metadata": {
    "collapsed": true
   },
   "outputs": [],
   "source": []
  },
  {
   "cell_type": "code",
   "execution_count": null,
   "metadata": {
    "collapsed": true
   },
   "outputs": [],
   "source": []
  },
  {
   "cell_type": "code",
   "execution_count": null,
   "metadata": {
    "collapsed": true
   },
   "outputs": [],
   "source": []
  },
  {
   "cell_type": "code",
   "execution_count": null,
   "metadata": {
    "collapsed": true
   },
   "outputs": [],
   "source": []
  }
 ],
 "metadata": {
  "anaconda-cloud": {},
  "kernelspec": {
   "display_name": "Python [Root]",
   "language": "python",
   "name": "Python [Root]"
  },
  "language_info": {
   "codemirror_mode": {
    "name": "ipython",
    "version": 3
   },
   "file_extension": ".py",
   "mimetype": "text/x-python",
   "name": "python",
   "nbconvert_exporter": "python",
   "pygments_lexer": "ipython3",
   "version": "3.5.2"
  }
 },
 "nbformat": 4,
 "nbformat_minor": 0
}

{
 "cells": [
  {
   "cell_type": "code",
   "execution_count": 1,
   "metadata": {
    "collapsed": true
   },
   "outputs": [],
   "source": [
    "import os\n",
    "import json\n",
    "import pandas as pd\n",
    "import csv\n",
    "\n",
    "%matplotlib inline\n",
    "\n",
    "import numpy as np\n",
    "import scipy.stats as stats\n",
    "import folium\n",
    "import geopy\n",
    "import geocoder\n",
    "import time\n",
    "from IPython.display import IFrame\n",
    "from geopy.geocoders import Nominatim\n",
    "from branca.colormap import *\n",
    "#pip install python-google-places\n",
    "from googleplaces import GooglePlaces, types, lang"
   ]
  },
  {
   "cell_type": "code",
   "execution_count": 4,
   "metadata": {
    "collapsed": true
   },
   "outputs": [],
   "source": [
    "path = 'data/sample.tsv'\n",
    "nb_fields = 20"
   ]
  },
  {
   "cell_type": "code",
   "execution_count": 28,
   "metadata": {
    "collapsed": false
   },
   "outputs": [
    {
     "name": "stdout",
     "output_type": "stream",
     "text": [
      "['id', 'userId', 'createdAt', 'text', 'longitude', 'latitude', 'placeId', 'inReplyTo', 'source', 'truncated', 'placeLatitude', 'placeLongitude', 'sourceName', 'sourceUrl', 'userName', 'screenName', 'followersCount', 'friendsCount', 'statusesCount', 'userLocation']\n"
     ]
    }
   ],
   "source": [
    "ids = \"\"\n",
    "with open(\"data/schema.txt\", \"r\") as schema:\n",
    "    content = schema.readlines()\n",
    "    for line in content:\n",
    "        if(ids == \"\"):\n",
    "            ids = ids + (line.split(\"    \")[1])\n",
    "        else:\n",
    "            ids = ids + \" \" + (line.split(\"    \")[1])\n",
    "idsList = list(ids.split(\" \"))\n",
    "print(idsList)"
   ]
  },
  {
   "cell_type": "code",
   "execution_count": null,
   "metadata": {
    "collapsed": true
   },
   "outputs": [],
   "source": []
  },
  {
   "cell_type": "code",
   "execution_count": 29,
   "metadata": {
    "collapsed": false
   },
   "outputs": [],
   "source": [
    "cleanedPath = \"data/sample_cleaned.tsv\"\n",
    "with open(path) as infile:\n",
    "    with open(cleanedPath, \"w\") as outputfile:\n",
    "        i=0\n",
    "        for line in infile:\n",
    "            i = i+1\n",
    "            if i%200000 == 0:\n",
    "                print(\"line:\", i)\n",
    "            line_array = line.split(\"\\t\")\n",
    "            if(len(line_array) == nb_fields):\n",
    "                if line_array[4] != \"\\\\N\":\n",
    "                    outputfile.write(line_array[0])\n",
    "                    outputfile.write(\"\\t\")\n",
    "                    outputfile.write(line_array[2])\n",
    "                    outputfile.write(\"\\t\")\n",
    "                    outputfile.write(line_array[4])\n",
    "                    outputfile.write(\"\\t\")\n",
    "                    outputfile.write(line_array[5])\n",
    "                    outputfile.write(\"\\n\")\n",
    "        outputfile.close()\n",
    "    infile.close()"
   ]
  },
  {
   "cell_type": "code",
   "execution_count": 32,
   "metadata": {
    "collapsed": false
   },
   "outputs": [],
   "source": [
    "#data = pd.DataFrame.from_csv(cleanedPath, sep=\"\\t\")\n",
    "data = pd.read_csv(cleanedPath, sep=\"\\t\",header=None, names=['Date', 'Latitude', 'Longitude'])\n"
   ]
  },
  {
   "cell_type": "code",
   "execution_count": 33,
   "metadata": {
    "collapsed": false
   },
   "outputs": [
    {
     "data": {
      "text/html": [
       "<div>\n",
       "<table border=\"1\" class=\"dataframe\">\n",
       "  <thead>\n",
       "    <tr style=\"text-align: right;\">\n",
       "      <th></th>\n",
       "      <th>Date</th>\n",
       "      <th>Latitude</th>\n",
       "      <th>Longitude</th>\n",
       "    </tr>\n",
       "  </thead>\n",
       "  <tbody>\n",
       "    <tr>\n",
       "      <th>776523058504925185</th>\n",
       "      <td>2016-09-15 20:48:18</td>\n",
       "      <td>6.14414</td>\n",
       "      <td>46.1966</td>\n",
       "    </tr>\n",
       "    <tr>\n",
       "      <th>776523388911255552</th>\n",
       "      <td>2016-09-15 20:49:37</td>\n",
       "      <td>8.95092</td>\n",
       "      <td>46.0060</td>\n",
       "    </tr>\n",
       "    <tr>\n",
       "      <th>776523419261087744</th>\n",
       "      <td>2016-09-15 20:49:44</td>\n",
       "      <td>6.81899</td>\n",
       "      <td>47.1003</td>\n",
       "    </tr>\n",
       "    <tr>\n",
       "      <th>776523645514608641</th>\n",
       "      <td>2016-09-15 20:50:38</td>\n",
       "      <td>8.94542</td>\n",
       "      <td>45.9915</td>\n",
       "    </tr>\n",
       "    <tr>\n",
       "      <th>776523844483846144</th>\n",
       "      <td>2016-09-15 20:51:26</td>\n",
       "      <td>5.99278</td>\n",
       "      <td>47.2763</td>\n",
       "    </tr>\n",
       "  </tbody>\n",
       "</table>\n",
       "</div>"
      ],
      "text/plain": [
       "                                   Date  Latitude  Longitude\n",
       "776523058504925185  2016-09-15 20:48:18   6.14414    46.1966\n",
       "776523388911255552  2016-09-15 20:49:37   8.95092    46.0060\n",
       "776523419261087744  2016-09-15 20:49:44   6.81899    47.1003\n",
       "776523645514608641  2016-09-15 20:50:38   8.94542    45.9915\n",
       "776523844483846144  2016-09-15 20:51:26   5.99278    47.2763"
      ]
     },
     "execution_count": 33,
     "metadata": {},
     "output_type": "execute_result"
    }
   ],
   "source": [
    "data.head()"
   ]
  },
  {
   "cell_type": "code",
   "execution_count": 34,
   "metadata": {
    "collapsed": false
   },
   "outputs": [],
   "source": [
    "data_without_date = data.drop(['Date'],axis=1)"
   ]
  },
  {
   "cell_type": "code",
   "execution_count": 35,
   "metadata": {
    "collapsed": false
   },
   "outputs": [
    {
     "data": {
      "text/html": [
       "<div>\n",
       "<table border=\"1\" class=\"dataframe\">\n",
       "  <thead>\n",
       "    <tr style=\"text-align: right;\">\n",
       "      <th></th>\n",
       "      <th>Latitude</th>\n",
       "      <th>Longitude</th>\n",
       "    </tr>\n",
       "  </thead>\n",
       "  <tbody>\n",
       "    <tr>\n",
       "      <th>776523058504925185</th>\n",
       "      <td>6.14414</td>\n",
       "      <td>46.1966</td>\n",
       "    </tr>\n",
       "    <tr>\n",
       "      <th>776523388911255552</th>\n",
       "      <td>8.95092</td>\n",
       "      <td>46.0060</td>\n",
       "    </tr>\n",
       "    <tr>\n",
       "      <th>776523419261087744</th>\n",
       "      <td>6.81899</td>\n",
       "      <td>47.1003</td>\n",
       "    </tr>\n",
       "    <tr>\n",
       "      <th>776523645514608641</th>\n",
       "      <td>8.94542</td>\n",
       "      <td>45.9915</td>\n",
       "    </tr>\n",
       "    <tr>\n",
       "      <th>776523844483846144</th>\n",
       "      <td>5.99278</td>\n",
       "      <td>47.2763</td>\n",
       "    </tr>\n",
       "  </tbody>\n",
       "</table>\n",
       "</div>"
      ],
      "text/plain": [
       "                    Latitude  Longitude\n",
       "776523058504925185   6.14414    46.1966\n",
       "776523388911255552   8.95092    46.0060\n",
       "776523419261087744   6.81899    47.1003\n",
       "776523645514608641   8.94542    45.9915\n",
       "776523844483846144   5.99278    47.2763"
      ]
     },
     "execution_count": 35,
     "metadata": {},
     "output_type": "execute_result"
    }
   ],
   "source": [
    "data_without_date.head()"
   ]
  },
  {
   "cell_type": "code",
   "execution_count": 36,
   "metadata": {
    "collapsed": false
   },
   "outputs": [],
   "source": [
    "#cleanedPathNoDate = \"data/sample_no_date_cleaned.tsv\"\n",
    "#data_without_date.to_csv(cleanedPathNoDate)"
   ]
  },
  {
   "cell_type": "markdown",
   "metadata": {},
   "source": [
    "#### Reload to frame"
   ]
  },
  {
   "cell_type": "code",
   "execution_count": 37,
   "metadata": {
    "collapsed": false
   },
   "outputs": [],
   "source": [
    "#dataReloaded = pd.read_csv(cleanedPathNoDate, sep=\",\", header=0, names=['Latitude', 'Longitude'])\n",
    "#dataReloaded.head()"
   ]
  },
  {
   "cell_type": "code",
   "execution_count": 38,
   "metadata": {
    "collapsed": false
   },
   "outputs": [],
   "source": [
    "#data_without_date.head()"
   ]
  },
  {
   "cell_type": "code",
   "execution_count": 39,
   "metadata": {
    "collapsed": false
   },
   "outputs": [],
   "source": [
    "#data_without_date_without_id = data_without_date.drop(['ID'],axis=1)"
   ]
  },
  {
   "cell_type": "code",
   "execution_count": 40,
   "metadata": {
    "collapsed": false
   },
   "outputs": [
    {
     "data": {
      "text/html": [
       "<div>\n",
       "<table border=\"1\" class=\"dataframe\">\n",
       "  <thead>\n",
       "    <tr style=\"text-align: right;\">\n",
       "      <th></th>\n",
       "      <th>Latitude</th>\n",
       "      <th>Longitude</th>\n",
       "    </tr>\n",
       "  </thead>\n",
       "  <tbody>\n",
       "    <tr>\n",
       "      <th>0</th>\n",
       "      <td>6.14414</td>\n",
       "      <td>46.1966</td>\n",
       "    </tr>\n",
       "    <tr>\n",
       "      <th>1</th>\n",
       "      <td>8.95092</td>\n",
       "      <td>46.0060</td>\n",
       "    </tr>\n",
       "    <tr>\n",
       "      <th>2</th>\n",
       "      <td>6.81899</td>\n",
       "      <td>47.1003</td>\n",
       "    </tr>\n",
       "    <tr>\n",
       "      <th>3</th>\n",
       "      <td>8.94542</td>\n",
       "      <td>45.9915</td>\n",
       "    </tr>\n",
       "    <tr>\n",
       "      <th>4</th>\n",
       "      <td>5.99278</td>\n",
       "      <td>47.2763</td>\n",
       "    </tr>\n",
       "  </tbody>\n",
       "</table>\n",
       "</div>"
      ],
      "text/plain": [
       "   Latitude  Longitude\n",
       "0   6.14414    46.1966\n",
       "1   8.95092    46.0060\n",
       "2   6.81899    47.1003\n",
       "3   8.94542    45.9915\n",
       "4   5.99278    47.2763"
      ]
     },
     "execution_count": 40,
     "metadata": {},
     "output_type": "execute_result"
    }
   ],
   "source": [
    "data_without_date_without_id.head()"
   ]
  },
  {
   "cell_type": "code",
   "execution_count": 43,
   "metadata": {
    "collapsed": false
   },
   "outputs": [],
   "source": [
    "cleanedPathOnlyLoc = \"data/sample_loc_cleaned.tsv\"\n",
    "data_without_date_without_id.to_csv(cleanedPathOnlyLoc,index=False,header=False)"
   ]
  },
  {
   "cell_type": "markdown",
   "metadata": {
    "collapsed": false
   },
   "source": [
    "# All data"
   ]
  },
  {
   "cell_type": "code",
   "execution_count": 9,
   "metadata": {
    "collapsed": true
   },
   "outputs": [],
   "source": [
    "cleanedPath = \"data/cleaned.tsv\"\n",
    "cleanedPathToSpark =\"data/cleaned_only_loc.tsv\""
   ]
  },
  {
   "cell_type": "code",
   "execution_count": 6,
   "metadata": {
    "collapsed": true
   },
   "outputs": [],
   "source": [
    "data = pd.read_csv(cleanedPath, sep=\"\\t\",header=None, names=['Date', 'Latitude', 'Longitude'])"
   ]
  },
  {
   "cell_type": "code",
   "execution_count": 7,
   "metadata": {
    "collapsed": false
   },
   "outputs": [
    {
     "data": {
      "text/html": [
       "<div>\n",
       "<table border=\"1\" class=\"dataframe\">\n",
       "  <thead>\n",
       "    <tr style=\"text-align: right;\">\n",
       "      <th></th>\n",
       "      <th>Date</th>\n",
       "      <th>Latitude</th>\n",
       "      <th>Longitude</th>\n",
       "    </tr>\n",
       "  </thead>\n",
       "  <tbody>\n",
       "    <tr>\n",
       "      <th>9514097914</th>\n",
       "      <td>2010-02-23 05:55:51</td>\n",
       "      <td>7.43926</td>\n",
       "      <td>46.9489</td>\n",
       "    </tr>\n",
       "    <tr>\n",
       "      <th>9514846412</th>\n",
       "      <td>2010-02-23 06:22:40</td>\n",
       "      <td>8.53781</td>\n",
       "      <td>47.3678</td>\n",
       "    </tr>\n",
       "    <tr>\n",
       "      <th>9516574359</th>\n",
       "      <td>2010-02-23 07:34:25</td>\n",
       "      <td>6.13396</td>\n",
       "      <td>46.1951</td>\n",
       "    </tr>\n",
       "    <tr>\n",
       "      <th>9516952605</th>\n",
       "      <td>2010-02-23 07:51:47</td>\n",
       "      <td>8.81749</td>\n",
       "      <td>47.2288</td>\n",
       "    </tr>\n",
       "    <tr>\n",
       "      <th>9517198943</th>\n",
       "      <td>2010-02-23 08:02:57</td>\n",
       "      <td>6.63254</td>\n",
       "      <td>46.5199</td>\n",
       "    </tr>\n",
       "  </tbody>\n",
       "</table>\n",
       "</div>"
      ],
      "text/plain": [
       "                           Date  Latitude  Longitude\n",
       "9514097914  2010-02-23 05:55:51   7.43926    46.9489\n",
       "9514846412  2010-02-23 06:22:40   8.53781    47.3678\n",
       "9516574359  2010-02-23 07:34:25   6.13396    46.1951\n",
       "9516952605  2010-02-23 07:51:47   8.81749    47.2288\n",
       "9517198943  2010-02-23 08:02:57   6.63254    46.5199"
      ]
     },
     "execution_count": 7,
     "metadata": {},
     "output_type": "execute_result"
    }
   ],
   "source": [
    "data.head()"
   ]
  },
  {
   "cell_type": "code",
   "execution_count": 8,
   "metadata": {
    "collapsed": true
   },
   "outputs": [],
   "source": [
    "data_without_date = data.drop(['Date'],axis=1)"
   ]
  },
  {
   "cell_type": "code",
   "execution_count": 10,
   "metadata": {
    "collapsed": true
   },
   "outputs": [],
   "source": [
    "data_without_date.to_csv(cleanedPathToSpark,index=False,header=False)"
   ]
  },
  {
   "cell_type": "code",
   "execution_count": 12,
   "metadata": {
    "collapsed": false
   },
   "outputs": [
    {
     "data": {
      "text/html": [
       "<div>\n",
       "<table border=\"1\" class=\"dataframe\">\n",
       "  <thead>\n",
       "    <tr style=\"text-align: right;\">\n",
       "      <th></th>\n",
       "      <th>Date</th>\n",
       "      <th>Latitude</th>\n",
       "      <th>Longitude</th>\n",
       "    </tr>\n",
       "  </thead>\n",
       "  <tbody>\n",
       "    <tr>\n",
       "      <th>9514097914</th>\n",
       "      <td>2010-02-23 05:55:51</td>\n",
       "      <td>7.43926</td>\n",
       "      <td>46.9489</td>\n",
       "    </tr>\n",
       "    <tr>\n",
       "      <th>9514846412</th>\n",
       "      <td>2010-02-23 06:22:40</td>\n",
       "      <td>8.53781</td>\n",
       "      <td>47.3678</td>\n",
       "    </tr>\n",
       "    <tr>\n",
       "      <th>9516574359</th>\n",
       "      <td>2010-02-23 07:34:25</td>\n",
       "      <td>6.13396</td>\n",
       "      <td>46.1951</td>\n",
       "    </tr>\n",
       "    <tr>\n",
       "      <th>9516952605</th>\n",
       "      <td>2010-02-23 07:51:47</td>\n",
       "      <td>8.81749</td>\n",
       "      <td>47.2288</td>\n",
       "    </tr>\n",
       "    <tr>\n",
       "      <th>9517198943</th>\n",
       "      <td>2010-02-23 08:02:57</td>\n",
       "      <td>6.63254</td>\n",
       "      <td>46.5199</td>\n",
       "    </tr>\n",
       "    <tr>\n",
       "      <th>9517916537</th>\n",
       "      <td>2010-02-23 08:35:39</td>\n",
       "      <td>8.53010</td>\n",
       "      <td>47.3152</td>\n",
       "    </tr>\n",
       "    <tr>\n",
       "      <th>9518014755</th>\n",
       "      <td>2010-02-23 08:40:13</td>\n",
       "      <td>6.63428</td>\n",
       "      <td>46.5191</td>\n",
       "    </tr>\n",
       "    <tr>\n",
       "      <th>9519149278</th>\n",
       "      <td>2010-02-23 09:32:09</td>\n",
       "      <td>8.29953</td>\n",
       "      <td>47.4829</td>\n",
       "    </tr>\n",
       "    <tr>\n",
       "      <th>9519737890</th>\n",
       "      <td>2010-02-23 09:59:41</td>\n",
       "      <td>6.13870</td>\n",
       "      <td>46.1750</td>\n",
       "    </tr>\n",
       "    <tr>\n",
       "      <th>9521202348</th>\n",
       "      <td>2010-02-23 11:04:27</td>\n",
       "      <td>6.63706</td>\n",
       "      <td>46.5203</td>\n",
       "    </tr>\n",
       "    <tr>\n",
       "      <th>9521789689</th>\n",
       "      <td>2010-02-23 11:28:27</td>\n",
       "      <td>6.33641</td>\n",
       "      <td>46.4631</td>\n",
       "    </tr>\n",
       "    <tr>\n",
       "      <th>9521909000</th>\n",
       "      <td>2010-02-23 11:33:05</td>\n",
       "      <td>6.62811</td>\n",
       "      <td>46.5162</td>\n",
       "    </tr>\n",
       "    <tr>\n",
       "      <th>9523488851</th>\n",
       "      <td>2010-02-23 12:30:04</td>\n",
       "      <td>7.59000</td>\n",
       "      <td>47.5550</td>\n",
       "    </tr>\n",
       "    <tr>\n",
       "      <th>9525122167</th>\n",
       "      <td>2010-02-23 13:20:45</td>\n",
       "      <td>6.91343</td>\n",
       "      <td>46.4326</td>\n",
       "    </tr>\n",
       "    <tr>\n",
       "      <th>9532072004</th>\n",
       "      <td>2010-02-23 16:21:25</td>\n",
       "      <td>10.01500</td>\n",
       "      <td>47.8280</td>\n",
       "    </tr>\n",
       "    <tr>\n",
       "      <th>9535390586</th>\n",
       "      <td>2010-02-23 17:47:11</td>\n",
       "      <td>9.16570</td>\n",
       "      <td>47.6463</td>\n",
       "    </tr>\n",
       "    <tr>\n",
       "      <th>9536575795</th>\n",
       "      <td>2010-02-23 18:19:03</td>\n",
       "      <td>8.26010</td>\n",
       "      <td>47.4576</td>\n",
       "    </tr>\n",
       "    <tr>\n",
       "      <th>9537030723</th>\n",
       "      <td>2010-02-23 18:31:46</td>\n",
       "      <td>8.51865</td>\n",
       "      <td>47.3703</td>\n",
       "    </tr>\n",
       "    <tr>\n",
       "      <th>9537277053</th>\n",
       "      <td>2010-02-23 18:38:34</td>\n",
       "      <td>8.54562</td>\n",
       "      <td>47.3958</td>\n",
       "    </tr>\n",
       "    <tr>\n",
       "      <th>9537697469</th>\n",
       "      <td>2010-02-23 18:50:13</td>\n",
       "      <td>8.54562</td>\n",
       "      <td>47.3958</td>\n",
       "    </tr>\n",
       "    <tr>\n",
       "      <th>9537735052</th>\n",
       "      <td>2010-02-23 18:51:17</td>\n",
       "      <td>8.51748</td>\n",
       "      <td>47.3692</td>\n",
       "    </tr>\n",
       "    <tr>\n",
       "      <th>9544665707</th>\n",
       "      <td>2010-02-23 21:58:49</td>\n",
       "      <td>6.62680</td>\n",
       "      <td>46.5072</td>\n",
       "    </tr>\n",
       "    <tr>\n",
       "      <th>9547007528</th>\n",
       "      <td>2010-02-23 22:56:23</td>\n",
       "      <td>6.14474</td>\n",
       "      <td>46.1958</td>\n",
       "    </tr>\n",
       "    <tr>\n",
       "      <th>9564394826</th>\n",
       "      <td>2010-02-24 06:09:23</td>\n",
       "      <td>7.90625</td>\n",
       "      <td>47.3513</td>\n",
       "    </tr>\n",
       "    <tr>\n",
       "      <th>9564875001</th>\n",
       "      <td>2010-02-24 06:26:53</td>\n",
       "      <td>7.44237</td>\n",
       "      <td>46.8958</td>\n",
       "    </tr>\n",
       "    <tr>\n",
       "      <th>9566362388</th>\n",
       "      <td>2010-02-24 07:26:32</td>\n",
       "      <td>8.74314</td>\n",
       "      <td>47.2392</td>\n",
       "    </tr>\n",
       "    <tr>\n",
       "      <th>9566536362</th>\n",
       "      <td>2010-02-24 07:33:49</td>\n",
       "      <td>8.29933</td>\n",
       "      <td>47.4834</td>\n",
       "    </tr>\n",
       "    <tr>\n",
       "      <th>9567368800</th>\n",
       "      <td>2010-02-24 08:10:43</td>\n",
       "      <td>6.37155</td>\n",
       "      <td>46.4742</td>\n",
       "    </tr>\n",
       "    <tr>\n",
       "      <th>9571347912</th>\n",
       "      <td>2010-02-24 11:06:29</td>\n",
       "      <td>6.63051</td>\n",
       "      <td>46.5219</td>\n",
       "    </tr>\n",
       "    <tr>\n",
       "      <th>9571380455</th>\n",
       "      <td>2010-02-24 11:07:50</td>\n",
       "      <td>6.15053</td>\n",
       "      <td>46.2423</td>\n",
       "    </tr>\n",
       "    <tr>\n",
       "      <th>...</th>\n",
       "      <td>...</td>\n",
       "      <td>...</td>\n",
       "      <td>...</td>\n",
       "    </tr>\n",
       "    <tr>\n",
       "      <th>776817496372416512</th>\n",
       "      <td>2016-09-16 16:18:18</td>\n",
       "      <td>8.40804</td>\n",
       "      <td>45.8163</td>\n",
       "    </tr>\n",
       "    <tr>\n",
       "      <th>776817632045662208</th>\n",
       "      <td>2016-09-16 16:18:50</td>\n",
       "      <td>9.54754</td>\n",
       "      <td>45.8195</td>\n",
       "    </tr>\n",
       "    <tr>\n",
       "      <th>776817712198742016</th>\n",
       "      <td>2016-09-16 16:19:09</td>\n",
       "      <td>8.40996</td>\n",
       "      <td>45.8159</td>\n",
       "    </tr>\n",
       "    <tr>\n",
       "      <th>776817913219153920</th>\n",
       "      <td>2016-09-16 16:19:57</td>\n",
       "      <td>8.30861</td>\n",
       "      <td>47.0497</td>\n",
       "    </tr>\n",
       "    <tr>\n",
       "      <th>776817933473513472</th>\n",
       "      <td>2016-09-16 16:20:02</td>\n",
       "      <td>9.28448</td>\n",
       "      <td>46.8366</td>\n",
       "    </tr>\n",
       "    <tr>\n",
       "      <th>776817935201529856</th>\n",
       "      <td>2016-09-16 16:20:02</td>\n",
       "      <td>8.30824</td>\n",
       "      <td>47.0457</td>\n",
       "    </tr>\n",
       "    <tr>\n",
       "      <th>776817936711442432</th>\n",
       "      <td>2016-09-16 16:20:03</td>\n",
       "      <td>8.04374</td>\n",
       "      <td>47.3928</td>\n",
       "    </tr>\n",
       "    <tr>\n",
       "      <th>776817939697831936</th>\n",
       "      <td>2016-09-16 16:20:04</td>\n",
       "      <td>8.40278</td>\n",
       "      <td>47.4046</td>\n",
       "    </tr>\n",
       "    <tr>\n",
       "      <th>776817941715255296</th>\n",
       "      <td>2016-09-16 16:20:04</td>\n",
       "      <td>7.44815</td>\n",
       "      <td>46.9480</td>\n",
       "    </tr>\n",
       "    <tr>\n",
       "      <th>776817943229374464</th>\n",
       "      <td>2016-09-16 16:20:04</td>\n",
       "      <td>8.58051</td>\n",
       "      <td>47.4527</td>\n",
       "    </tr>\n",
       "    <tr>\n",
       "      <th>776818001177739264</th>\n",
       "      <td>2016-09-16 16:20:18</td>\n",
       "      <td>9.08089</td>\n",
       "      <td>45.8132</td>\n",
       "    </tr>\n",
       "    <tr>\n",
       "      <th>776818066902683648</th>\n",
       "      <td>2016-09-16 16:20:34</td>\n",
       "      <td>8.53372</td>\n",
       "      <td>47.3820</td>\n",
       "    </tr>\n",
       "    <tr>\n",
       "      <th>776818771629445124</th>\n",
       "      <td>2016-09-16 16:23:22</td>\n",
       "      <td>6.15127</td>\n",
       "      <td>46.2101</td>\n",
       "    </tr>\n",
       "    <tr>\n",
       "      <th>776819096436379648</th>\n",
       "      <td>2016-09-16 16:24:39</td>\n",
       "      <td>7.85661</td>\n",
       "      <td>46.6858</td>\n",
       "    </tr>\n",
       "    <tr>\n",
       "      <th>776819254402355201</th>\n",
       "      <td>2016-09-16 16:25:17</td>\n",
       "      <td>6.15127</td>\n",
       "      <td>46.2101</td>\n",
       "    </tr>\n",
       "    <tr>\n",
       "      <th>776819318805843968</th>\n",
       "      <td>2016-09-16 16:25:32</td>\n",
       "      <td>8.30809</td>\n",
       "      <td>47.4729</td>\n",
       "    </tr>\n",
       "    <tr>\n",
       "      <th>776819391996399616</th>\n",
       "      <td>2016-09-16 16:25:50</td>\n",
       "      <td>9.35000</td>\n",
       "      <td>46.0167</td>\n",
       "    </tr>\n",
       "    <tr>\n",
       "      <th>776819552541876224</th>\n",
       "      <td>2016-09-16 16:26:28</td>\n",
       "      <td>7.23187</td>\n",
       "      <td>47.6220</td>\n",
       "    </tr>\n",
       "    <tr>\n",
       "      <th>776819693231476736</th>\n",
       "      <td>2016-09-16 16:27:02</td>\n",
       "      <td>7.85736</td>\n",
       "      <td>46.6866</td>\n",
       "    </tr>\n",
       "    <tr>\n",
       "      <th>776819697094459392</th>\n",
       "      <td>2016-09-16 16:27:03</td>\n",
       "      <td>6.44147</td>\n",
       "      <td>46.1991</td>\n",
       "    </tr>\n",
       "    <tr>\n",
       "      <th>776820487527788544</th>\n",
       "      <td>2016-09-16 16:30:11</td>\n",
       "      <td>8.31393</td>\n",
       "      <td>47.0497</td>\n",
       "    </tr>\n",
       "    <tr>\n",
       "      <th>776820544083750912</th>\n",
       "      <td>2016-09-16 16:30:24</td>\n",
       "      <td>8.54723</td>\n",
       "      <td>47.3623</td>\n",
       "    </tr>\n",
       "    <tr>\n",
       "      <th>776820614598451200</th>\n",
       "      <td>2016-09-16 16:30:41</td>\n",
       "      <td>6.88944</td>\n",
       "      <td>46.3408</td>\n",
       "    </tr>\n",
       "    <tr>\n",
       "      <th>776820888721252352</th>\n",
       "      <td>2016-09-16 16:31:47</td>\n",
       "      <td>9.74573</td>\n",
       "      <td>47.5018</td>\n",
       "    </tr>\n",
       "    <tr>\n",
       "      <th>776820942328606720</th>\n",
       "      <td>2016-09-16 16:31:59</td>\n",
       "      <td>9.87921</td>\n",
       "      <td>45.8590</td>\n",
       "    </tr>\n",
       "    <tr>\n",
       "      <th>776821123442958336</th>\n",
       "      <td>2016-09-16 16:32:43</td>\n",
       "      <td>8.83488</td>\n",
       "      <td>45.8106</td>\n",
       "    </tr>\n",
       "    <tr>\n",
       "      <th>776821193202667521</th>\n",
       "      <td>2016-09-16 16:32:59</td>\n",
       "      <td>9.87921</td>\n",
       "      <td>45.8590</td>\n",
       "    </tr>\n",
       "    <tr>\n",
       "      <th>776821324736061440</th>\n",
       "      <td>2016-09-16 16:33:31</td>\n",
       "      <td>7.53810</td>\n",
       "      <td>46.2830</td>\n",
       "    </tr>\n",
       "    <tr>\n",
       "      <th>776821576939540481</th>\n",
       "      <td>2016-09-16 16:34:31</td>\n",
       "      <td>8.31393</td>\n",
       "      <td>47.0497</td>\n",
       "    </tr>\n",
       "    <tr>\n",
       "      <th>776821713329946626</th>\n",
       "      <td>2016-09-16 16:35:03</td>\n",
       "      <td>8.31033</td>\n",
       "      <td>47.0509</td>\n",
       "    </tr>\n",
       "  </tbody>\n",
       "</table>\n",
       "<p>12438537 rows × 3 columns</p>\n",
       "</div>"
      ],
      "text/plain": [
       "                                   Date  Latitude  Longitude\n",
       "9514097914          2010-02-23 05:55:51   7.43926    46.9489\n",
       "9514846412          2010-02-23 06:22:40   8.53781    47.3678\n",
       "9516574359          2010-02-23 07:34:25   6.13396    46.1951\n",
       "9516952605          2010-02-23 07:51:47   8.81749    47.2288\n",
       "9517198943          2010-02-23 08:02:57   6.63254    46.5199\n",
       "9517916537          2010-02-23 08:35:39   8.53010    47.3152\n",
       "9518014755          2010-02-23 08:40:13   6.63428    46.5191\n",
       "9519149278          2010-02-23 09:32:09   8.29953    47.4829\n",
       "9519737890          2010-02-23 09:59:41   6.13870    46.1750\n",
       "9521202348          2010-02-23 11:04:27   6.63706    46.5203\n",
       "9521789689          2010-02-23 11:28:27   6.33641    46.4631\n",
       "9521909000          2010-02-23 11:33:05   6.62811    46.5162\n",
       "9523488851          2010-02-23 12:30:04   7.59000    47.5550\n",
       "9525122167          2010-02-23 13:20:45   6.91343    46.4326\n",
       "9532072004          2010-02-23 16:21:25  10.01500    47.8280\n",
       "9535390586          2010-02-23 17:47:11   9.16570    47.6463\n",
       "9536575795          2010-02-23 18:19:03   8.26010    47.4576\n",
       "9537030723          2010-02-23 18:31:46   8.51865    47.3703\n",
       "9537277053          2010-02-23 18:38:34   8.54562    47.3958\n",
       "9537697469          2010-02-23 18:50:13   8.54562    47.3958\n",
       "9537735052          2010-02-23 18:51:17   8.51748    47.3692\n",
       "9544665707          2010-02-23 21:58:49   6.62680    46.5072\n",
       "9547007528          2010-02-23 22:56:23   6.14474    46.1958\n",
       "9564394826          2010-02-24 06:09:23   7.90625    47.3513\n",
       "9564875001          2010-02-24 06:26:53   7.44237    46.8958\n",
       "9566362388          2010-02-24 07:26:32   8.74314    47.2392\n",
       "9566536362          2010-02-24 07:33:49   8.29933    47.4834\n",
       "9567368800          2010-02-24 08:10:43   6.37155    46.4742\n",
       "9571347912          2010-02-24 11:06:29   6.63051    46.5219\n",
       "9571380455          2010-02-24 11:07:50   6.15053    46.2423\n",
       "...                                 ...       ...        ...\n",
       "776817496372416512  2016-09-16 16:18:18   8.40804    45.8163\n",
       "776817632045662208  2016-09-16 16:18:50   9.54754    45.8195\n",
       "776817712198742016  2016-09-16 16:19:09   8.40996    45.8159\n",
       "776817913219153920  2016-09-16 16:19:57   8.30861    47.0497\n",
       "776817933473513472  2016-09-16 16:20:02   9.28448    46.8366\n",
       "776817935201529856  2016-09-16 16:20:02   8.30824    47.0457\n",
       "776817936711442432  2016-09-16 16:20:03   8.04374    47.3928\n",
       "776817939697831936  2016-09-16 16:20:04   8.40278    47.4046\n",
       "776817941715255296  2016-09-16 16:20:04   7.44815    46.9480\n",
       "776817943229374464  2016-09-16 16:20:04   8.58051    47.4527\n",
       "776818001177739264  2016-09-16 16:20:18   9.08089    45.8132\n",
       "776818066902683648  2016-09-16 16:20:34   8.53372    47.3820\n",
       "776818771629445124  2016-09-16 16:23:22   6.15127    46.2101\n",
       "776819096436379648  2016-09-16 16:24:39   7.85661    46.6858\n",
       "776819254402355201  2016-09-16 16:25:17   6.15127    46.2101\n",
       "776819318805843968  2016-09-16 16:25:32   8.30809    47.4729\n",
       "776819391996399616  2016-09-16 16:25:50   9.35000    46.0167\n",
       "776819552541876224  2016-09-16 16:26:28   7.23187    47.6220\n",
       "776819693231476736  2016-09-16 16:27:02   7.85736    46.6866\n",
       "776819697094459392  2016-09-16 16:27:03   6.44147    46.1991\n",
       "776820487527788544  2016-09-16 16:30:11   8.31393    47.0497\n",
       "776820544083750912  2016-09-16 16:30:24   8.54723    47.3623\n",
       "776820614598451200  2016-09-16 16:30:41   6.88944    46.3408\n",
       "776820888721252352  2016-09-16 16:31:47   9.74573    47.5018\n",
       "776820942328606720  2016-09-16 16:31:59   9.87921    45.8590\n",
       "776821123442958336  2016-09-16 16:32:43   8.83488    45.8106\n",
       "776821193202667521  2016-09-16 16:32:59   9.87921    45.8590\n",
       "776821324736061440  2016-09-16 16:33:31   7.53810    46.2830\n",
       "776821576939540481  2016-09-16 16:34:31   8.31393    47.0497\n",
       "776821713329946626  2016-09-16 16:35:03   8.31033    47.0509\n",
       "\n",
       "[12438537 rows x 3 columns]"
      ]
     },
     "execution_count": 12,
     "metadata": {},
     "output_type": "execute_result"
    }
   ],
   "source": [
    "data"
   ]
  },
  {
   "cell_type": "markdown",
   "metadata": {
    "collapsed": true
   },
   "source": [
    "# Center"
   ]
  },
  {
   "cell_type": "code",
   "execution_count": 4,
   "metadata": {
    "collapsed": true
   },
   "outputs": [],
   "source": [
    "path_center = 'data/r1/centerfull.csv'\n"
   ]
  },
  {
   "cell_type": "code",
   "execution_count": 15,
   "metadata": {
    "collapsed": true
   },
   "outputs": [],
   "source": [
    "data_center = pd.read_csv(path_center, sep=\",\",header=None, names=['Longitude','Latitude'])"
   ]
  },
  {
   "cell_type": "code",
   "execution_count": 16,
   "metadata": {
    "collapsed": false
   },
   "outputs": [
    {
     "data": {
      "text/html": [
       "<div>\n",
       "<table border=\"1\" class=\"dataframe\">\n",
       "  <thead>\n",
       "    <tr style=\"text-align: right;\">\n",
       "      <th></th>\n",
       "      <th>Longitude</th>\n",
       "      <th>Latitude</th>\n",
       "    </tr>\n",
       "  </thead>\n",
       "  <tbody>\n",
       "    <tr>\n",
       "      <th>0</th>\n",
       "      <td>6.1077</td>\n",
       "      <td>46.2308</td>\n",
       "    </tr>\n",
       "    <tr>\n",
       "      <th>1</th>\n",
       "      <td>9.5167</td>\n",
       "      <td>46.9333</td>\n",
       "    </tr>\n",
       "    <tr>\n",
       "      <th>2</th>\n",
       "      <td>6.8894</td>\n",
       "      <td>46.3408</td>\n",
       "    </tr>\n",
       "    <tr>\n",
       "      <th>3</th>\n",
       "      <td>6.8894</td>\n",
       "      <td>46.3408</td>\n",
       "    </tr>\n",
       "    <tr>\n",
       "      <th>4</th>\n",
       "      <td>9.0818</td>\n",
       "      <td>45.8132</td>\n",
       "    </tr>\n",
       "  </tbody>\n",
       "</table>\n",
       "</div>"
      ],
      "text/plain": [
       "   Longitude  Latitude\n",
       "0     6.1077   46.2308\n",
       "1     9.5167   46.9333\n",
       "2     6.8894   46.3408\n",
       "3     6.8894   46.3408\n",
       "4     9.0818   45.8132"
      ]
     },
     "execution_count": 16,
     "metadata": {},
     "output_type": "execute_result"
    }
   ],
   "source": [
    "data_center.head()"
   ]
  },
  {
   "cell_type": "code",
   "execution_count": 17,
   "metadata": {
    "collapsed": false
   },
   "outputs": [],
   "source": [
    "#ch_cantons = os.path.join('data', 'ch-cantons.topojson.json')\n",
    "#topo_json_data = json.load(open(ch_cantons))\n",
    "Swiss_map = folium.Map([46.232532, 7.361059], zoom_start=9)\n",
    "\n",
    "'''folium.TopoJson(open(ch_cantons),\n",
    "                'objects.cantons',\n",
    "                style_function=lambda feature: {\n",
    "        'fillColor': '#ffffff',\n",
    "        'color': 'black',\n",
    "        'weight': 2,\n",
    "        'dashArray': '5, 5'\n",
    "    }).add_to(Swiss_map)'''\n",
    "\n",
    "for x in range(0, data_center.shape[0]):\n",
    "#for x in range(0, 50):\n",
    "#    folium.Marker([sampleReade.lat[x], sampleReade.long[x]], popup=str(university)).add_to(Swiss_map)\n",
    "    folium.Marker([data_center.Latitude[x], data_center.Longitude[x]]).add_to(Swiss_map)\n",
    "Swiss_map.save('center.html')      \n"
   ]
  },
  {
   "cell_type": "code",
   "execution_count": 8,
   "metadata": {
    "collapsed": false
   },
   "outputs": [
    {
     "data": {
      "text/plain": [
       "0       6.1077\n",
       "1       9.5167\n",
       "2       6.8894\n",
       "3       6.8894\n",
       "4       9.0818\n",
       "5       8.3051\n",
       "6       8.3066\n",
       "7       8.3957\n",
       "8       6.1428\n",
       "9       8.5363\n",
       "10      7.9075\n",
       "11      6.8650\n",
       "12      7.8228\n",
       "13      7.5770\n",
       "14      6.6369\n",
       "15      8.3056\n",
       "16      9.5208\n",
       "17      8.3139\n",
       "18      9.5097\n",
       "19      8.8330\n",
       "20      6.7125\n",
       "21      9.5052\n",
       "22      9.5170\n",
       "23      8.3139\n",
       "24      6.0818\n",
       "25      8.3056\n",
       "26      6.1066\n",
       "27      8.5727\n",
       "28      6.1031\n",
       "29      8.3165\n",
       "         ...  \n",
       "2470    8.3123\n",
       "2471    6.8894\n",
       "2472    9.7154\n",
       "2473    6.8667\n",
       "2474    8.5502\n",
       "2475    8.5378\n",
       "2476    6.1077\n",
       "2477    8.3453\n",
       "2478    6.1502\n",
       "2479    6.8894\n",
       "2480    8.5501\n",
       "2481    7.8566\n",
       "2482    6.1500\n",
       "2483    7.4474\n",
       "2484    8.5378\n",
       "2485    8.5500\n",
       "2486    6.1667\n",
       "2487    9.5475\n",
       "2488    8.5619\n",
       "2489    8.5616\n",
       "2490    9.0809\n",
       "2491    8.3048\n",
       "2492    8.3112\n",
       "2493    6.8595\n",
       "2494    8.3068\n",
       "2495    9.2710\n",
       "2496    6.1441\n",
       "2497    8.5470\n",
       "2498    8.3098\n",
       "2499    8.3032\n",
       "Name: Latitude, dtype: float64"
      ]
     },
     "execution_count": 8,
     "metadata": {},
     "output_type": "execute_result"
    }
   ],
   "source": [
    "data_center.Latitude"
   ]
  },
  {
   "cell_type": "code",
   "execution_count": null,
   "metadata": {
    "collapsed": true
   },
   "outputs": [],
   "source": []
  },
  {
   "cell_type": "code",
   "execution_count": null,
   "metadata": {
    "collapsed": true
   },
   "outputs": [],
   "source": []
  },
  {
   "cell_type": "code",
   "execution_count": null,
   "metadata": {
    "collapsed": true
   },
   "outputs": [],
   "source": []
  },
  {
   "cell_type": "code",
   "execution_count": null,
   "metadata": {
    "collapsed": true
   },
   "outputs": [],
   "source": []
  },
  {
   "cell_type": "code",
   "execution_count": null,
   "metadata": {
    "collapsed": true
   },
   "outputs": [],
   "source": []
  },
  {
   "cell_type": "code",
   "execution_count": null,
   "metadata": {
    "collapsed": true
   },
   "outputs": [],
   "source": []
  },
  {
   "cell_type": "code",
   "execution_count": null,
   "metadata": {
    "collapsed": true
   },
   "outputs": [],
   "source": []
  },
  {
   "cell_type": "code",
   "execution_count": null,
   "metadata": {
    "collapsed": true
   },
   "outputs": [],
   "source": []
  },
  {
   "cell_type": "code",
   "execution_count": null,
   "metadata": {
    "collapsed": true
   },
   "outputs": [],
   "source": []
  },
  {
   "cell_type": "code",
   "execution_count": null,
   "metadata": {
    "collapsed": true
   },
   "outputs": [],
   "source": []
  },
  {
   "cell_type": "code",
   "execution_count": null,
   "metadata": {
    "collapsed": true
   },
   "outputs": [],
   "source": []
  },
  {
   "cell_type": "code",
   "execution_count": null,
   "metadata": {
    "collapsed": true
   },
   "outputs": [],
   "source": []
  },
  {
   "cell_type": "code",
   "execution_count": null,
   "metadata": {
    "collapsed": true
   },
   "outputs": [],
   "source": []
  },
  {
   "cell_type": "code",
   "execution_count": null,
   "metadata": {
    "collapsed": true
   },
   "outputs": [],
   "source": []
  },
  {
   "cell_type": "code",
   "execution_count": null,
   "metadata": {
    "collapsed": true
   },
   "outputs": [],
   "source": []
  },
  {
   "cell_type": "code",
   "execution_count": null,
   "metadata": {
    "collapsed": true
   },
   "outputs": [],
   "source": []
  },
  {
   "cell_type": "code",
   "execution_count": null,
   "metadata": {
    "collapsed": true
   },
   "outputs": [],
   "source": []
  },
  {
   "cell_type": "code",
   "execution_count": null,
   "metadata": {
    "collapsed": true
   },
   "outputs": [],
   "source": []
  }
 ],
 "metadata": {
  "anaconda-cloud": {},
  "kernelspec": {
   "display_name": "Python [Root]",
   "language": "python",
   "name": "Python [Root]"
  },
  "language_info": {
   "codemirror_mode": {
    "name": "ipython",
    "version": 3
   },
   "file_extension": ".py",
   "mimetype": "text/x-python",
   "name": "python",
   "nbconvert_exporter": "python",
   "pygments_lexer": "ipython3",
   "version": "3.5.2"
  }
 },
 "nbformat": 4,
 "nbformat_minor": 0
}

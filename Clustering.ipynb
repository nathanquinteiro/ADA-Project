{
 "cells": [
  {
   "cell_type": "markdown",
   "metadata": {},
   "source": [
    "## Clustering\n",
    "\n",
    "Now that we know the interesting tweets, we can cluster them in order to find area of interests."
   ]
  },
  {
   "cell_type": "code",
   "execution_count": 66,
   "metadata": {
    "collapsed": true
   },
   "outputs": [],
   "source": [
    "#Imports\n",
    "import os\n",
    "import json\n",
    "import pandas as pd\n",
    "import numpy as np\n",
    "import csv"
   ]
  },
  {
   "cell_type": "markdown",
   "metadata": {},
   "source": [
    "## Data loading\n",
    "\n",
    "We load the non urban tweets info previouly computed"
   ]
  },
  {
   "cell_type": "code",
   "execution_count": 67,
   "metadata": {
    "collapsed": false
   },
   "outputs": [],
   "source": [
    "non_urban = pd.DataFrame.from_csv(\"data/cleaned_non_urban.tsv\", sep=\"\\t\")"
   ]
  },
  {
   "cell_type": "markdown",
   "metadata": {},
   "source": [
    "## Clustering\n",
    "\n",
    "We use the DBSCAN algorithm to compute the clusters and find point of interests. Since this algorithms requires a lot of memory, we compute it on a random subset of 200'000 tweets to find the clusters center first."
   ]
  },
  {
   "cell_type": "code",
   "execution_count": 68,
   "metadata": {
    "collapsed": false
   },
   "outputs": [
    {
     "data": {
      "text/plain": [
       "(1199362, 2)"
      ]
     },
     "execution_count": 68,
     "metadata": {},
     "output_type": "execute_result"
    }
   ],
   "source": [
    "array_data = non_urban[[\"longitude\",\"latitude\"]].as_matrix()\n",
    "array_data.shape"
   ]
  },
  {
   "cell_type": "markdown",
   "metadata": {},
   "source": [
    "Create subset"
   ]
  },
  {
   "cell_type": "code",
   "execution_count": 69,
   "metadata": {
    "collapsed": false
   },
   "outputs": [
    {
     "data": {
      "text/plain": [
       "array([[  7.4426 ,  46.172  ],\n",
       "       [  6.45029,  45.9063 ],\n",
       "       [ 10.0293 ,  46.9783 ],\n",
       "       ..., \n",
       "       [  7.03545,  46.5661 ],\n",
       "       [  6.8901 ,  46.5063 ],\n",
       "       [  6.68697,  46.1926 ]])"
      ]
     },
     "execution_count": 69,
     "metadata": {},
     "output_type": "execute_result"
    }
   ],
   "source": [
    "idx = np.random.randint(array_data.shape[0], size=200000)\n",
    "subset = array_data[idx]\n",
    "subset"
   ]
  },
  {
   "cell_type": "markdown",
   "metadata": {},
   "source": [
    "Running the DBSCAN on the subset"
   ]
  },
  {
   "cell_type": "code",
   "execution_count": 102,
   "metadata": {
    "collapsed": false
   },
   "outputs": [
    {
     "name": "stdout",
     "output_type": "stream",
     "text": [
      "Estimated number of clusters: 534\n"
     ]
    }
   ],
   "source": [
    "from sklearn.cluster import DBSCAN\n",
    "from sklearn import metrics\n",
    "from sklearn.datasets.samples_generator import make_blobs\n",
    "from sklearn.preprocessing import StandardScaler\n",
    "\n",
    "db = DBSCAN(eps=0.01, min_samples=50).fit(subset)\n",
    "core_samples_mask = np.zeros_like(db.labels_, dtype=bool)\n",
    "core_samples_mask[db.core_sample_indices_] = True\n",
    "labels = db.labels_\n",
    "\n",
    "# Number of clusters in labels, ignoring noise if present.\n",
    "n_clusters_ = len(set(labels)) - (1 if -1 in labels else 0)\n",
    "\n",
    "print('Estimated number of clusters: %d' % n_clusters_)\n"
   ]
  },
  {
   "cell_type": "markdown",
   "metadata": {},
   "source": [
    "Display the number of tweets for each cluster (cluster -1 means that tweet belongs to no cluster)"
   ]
  },
  {
   "cell_type": "code",
   "execution_count": 103,
   "metadata": {
    "collapsed": false
   },
   "outputs": [
    {
     "data": {
      "text/html": [
       "<div>\n",
       "<table border=\"1\" class=\"dataframe\">\n",
       "  <thead>\n",
       "    <tr style=\"text-align: right;\">\n",
       "      <th></th>\n",
       "      <th>cluster</th>\n",
       "      <th>count</th>\n",
       "    </tr>\n",
       "  </thead>\n",
       "  <tbody>\n",
       "    <tr>\n",
       "      <th>0</th>\n",
       "      <td>-1</td>\n",
       "      <td>49749</td>\n",
       "    </tr>\n",
       "    <tr>\n",
       "      <th>1</th>\n",
       "      <td>5</td>\n",
       "      <td>8354</td>\n",
       "    </tr>\n",
       "    <tr>\n",
       "      <th>2</th>\n",
       "      <td>45</td>\n",
       "      <td>5171</td>\n",
       "    </tr>\n",
       "    <tr>\n",
       "      <th>3</th>\n",
       "      <td>58</td>\n",
       "      <td>3683</td>\n",
       "    </tr>\n",
       "    <tr>\n",
       "      <th>4</th>\n",
       "      <td>4</td>\n",
       "      <td>3457</td>\n",
       "    </tr>\n",
       "  </tbody>\n",
       "</table>\n",
       "</div>"
      ],
      "text/plain": [
       "   cluster  count\n",
       "0       -1  49749\n",
       "1        5   8354\n",
       "2       45   5171\n",
       "3       58   3683\n",
       "4        4   3457"
      ]
     },
     "execution_count": 103,
     "metadata": {},
     "output_type": "execute_result"
    }
   ],
   "source": [
    "test = pd.DataFrame(subset)\n",
    "test.columns = [\"longitude\",\"latitude\"]\n",
    "test[\"cluster\"] = labels\n",
    "count_per_cluster = test.groupby(\"cluster\").count().sort_values(\"longitude\",ascending=False).reset_index()[[\"cluster\", \"longitude\"]]\n",
    "count_per_cluster.columns=[\"cluster\",\"count\"]\n",
    "count_per_cluster.head()"
   ]
  },
  {
   "cell_type": "markdown",
   "metadata": {},
   "source": [
    "Remove the unassigned cluster and display the clusters with the most tweet counts in the subset"
   ]
  },
  {
   "cell_type": "code",
   "execution_count": 104,
   "metadata": {
    "collapsed": false
   },
   "outputs": [
    {
     "data": {
      "text/html": [
       "<div>\n",
       "<table border=\"1\" class=\"dataframe\">\n",
       "  <thead>\n",
       "    <tr style=\"text-align: right;\">\n",
       "      <th></th>\n",
       "      <th>longitude</th>\n",
       "      <th>latitude</th>\n",
       "    </tr>\n",
       "    <tr>\n",
       "      <th>cluster</th>\n",
       "      <th></th>\n",
       "      <th></th>\n",
       "    </tr>\n",
       "  </thead>\n",
       "  <tbody>\n",
       "    <tr>\n",
       "      <th>5</th>\n",
       "      <td>8354</td>\n",
       "      <td>8354</td>\n",
       "    </tr>\n",
       "    <tr>\n",
       "      <th>45</th>\n",
       "      <td>5171</td>\n",
       "      <td>5171</td>\n",
       "    </tr>\n",
       "    <tr>\n",
       "      <th>58</th>\n",
       "      <td>3683</td>\n",
       "      <td>3683</td>\n",
       "    </tr>\n",
       "    <tr>\n",
       "      <th>4</th>\n",
       "      <td>3457</td>\n",
       "      <td>3457</td>\n",
       "    </tr>\n",
       "    <tr>\n",
       "      <th>24</th>\n",
       "      <td>3296</td>\n",
       "      <td>3296</td>\n",
       "    </tr>\n",
       "  </tbody>\n",
       "</table>\n",
       "</div>"
      ],
      "text/plain": [
       "         longitude  latitude\n",
       "cluster                     \n",
       "5             8354      8354\n",
       "45            5171      5171\n",
       "58            3683      3683\n",
       "4             3457      3457\n",
       "24            3296      3296"
      ]
     },
     "execution_count": 104,
     "metadata": {},
     "output_type": "execute_result"
    }
   ],
   "source": [
    "test_cleaned = test[test.cluster != -1]\n",
    "test_cleaned.head()\n",
    "test_cleaned.groupby(\"cluster\").count().sort_values(\"longitude\",ascending=False).head()\n"
   ]
  },
  {
   "cell_type": "markdown",
   "metadata": {},
   "source": [
    "# Centroids\n",
    "\n",
    "We compute the average latitude and longitude for each clusters"
   ]
  },
  {
   "cell_type": "code",
   "execution_count": 105,
   "metadata": {
    "collapsed": true
   },
   "outputs": [],
   "source": [
    "test_array_data = test_cleaned[[\"longitude\",\"latitude\"]].as_matrix()\n",
    "test_array_labels = test_cleaned[[\"cluster\"]].as_matrix()"
   ]
  },
  {
   "cell_type": "code",
   "execution_count": 106,
   "metadata": {
    "collapsed": false
   },
   "outputs": [
    {
     "data": {
      "text/plain": [
       "array([[   0.        ,    6.43165284,   45.88530463],\n",
       "       [   1.        ,   10.02139632,   46.98967791],\n",
       "       [   2.        ,    7.6223579 ,   45.87525018],\n",
       "       ..., \n",
       "       [ 531.        ,    6.95492042,   46.24035   ],\n",
       "       [ 532.        ,    9.6970716 ,   46.399812  ],\n",
       "       [ 533.        ,    8.63494909,   45.83577636]])"
      ]
     },
     "execution_count": 106,
     "metadata": {},
     "output_type": "execute_result"
    }
   ],
   "source": [
    "clusters_centroids = test_cleaned.groupby(\"cluster\").mean().reset_index().as_matrix()\n",
    "clusters_centroids"
   ]
  },
  {
   "cell_type": "markdown",
   "metadata": {},
   "source": [
    "## Cluster Assignements\n",
    "\n",
    "Using the clusters centers computed from the subsets, we now assign to each tweets of the total data to the closest cluster, if there is one close enough."
   ]
  },
  {
   "cell_type": "code",
   "execution_count": 107,
   "metadata": {
    "collapsed": false
   },
   "outputs": [
    {
     "name": "stderr",
     "output_type": "stream",
     "text": [
      "/home/nathan/anaconda3/lib/python3.5/site-packages/ipykernel/__main__.py:11: SettingWithCopyWarning: \n",
      "A value is trying to be set on a copy of a slice from a DataFrame\n",
      "\n",
      "See the caveats in the documentation: http://pandas.pydata.org/pandas-docs/stable/indexing.html#indexing-view-versus-copy\n",
      "/home/nathan/anaconda3/lib/python3.5/site-packages/ipykernel/__main__.py:12: SettingWithCopyWarning: \n",
      "A value is trying to be set on a copy of a slice from a DataFrame\n",
      "\n",
      "See the caveats in the documentation: http://pandas.pydata.org/pandas-docs/stable/indexing.html#indexing-view-versus-copy\n"
     ]
    }
   ],
   "source": [
    "#limit the radius of the clusters to about 10 kilometers\n",
    "treshold = 0.1 * 0.1\n",
    "non_urban[\"cluster\"] = -1 \n",
    "non_urban[\"diff\"] = treshold\n",
    "\n",
    "for i in range(clusters_centroids.shape[0]):\n",
    "    non_urban[\"longdiff\"] = (non_urban[\"longitude\"] - clusters_centroids[i][1]) ** 2\n",
    "    non_urban[\"latdiff\"] = (non_urban[\"latitude\"] - clusters_centroids[i][2]) ** 2\n",
    "    non_urban[\"totdiff\"] = (non_urban[\"latdiff\"] + non_urban[\"longdiff\"])\n",
    "    assigned = (non_urban[\"totdiff\"] < treshold) & (non_urban[\"totdiff\"] < non_urban[\"diff\"])\n",
    "    non_urban[\"cluster\"][assigned] = i\n",
    "    non_urban[\"diff\"][assigned] =  non_urban[\"totdiff\"][assigned]"
   ]
  },
  {
   "cell_type": "code",
   "execution_count": 108,
   "metadata": {
    "collapsed": false
   },
   "outputs": [
    {
     "data": {
      "text/html": [
       "<div>\n",
       "<table border=\"1\" class=\"dataframe\">\n",
       "  <thead>\n",
       "    <tr style=\"text-align: right;\">\n",
       "      <th></th>\n",
       "      <th>date</th>\n",
       "      <th>longitude</th>\n",
       "      <th>latitude</th>\n",
       "      <th>used</th>\n",
       "      <th>cluster</th>\n",
       "      <th>diff</th>\n",
       "      <th>longdiff</th>\n",
       "      <th>latdiff</th>\n",
       "      <th>totdiff</th>\n",
       "    </tr>\n",
       "    <tr>\n",
       "      <th>0</th>\n",
       "      <th></th>\n",
       "      <th></th>\n",
       "      <th></th>\n",
       "      <th></th>\n",
       "      <th></th>\n",
       "      <th></th>\n",
       "      <th></th>\n",
       "      <th></th>\n",
       "      <th></th>\n",
       "    </tr>\n",
       "  </thead>\n",
       "  <tbody>\n",
       "    <tr>\n",
       "      <th>9564875001</th>\n",
       "      <td>2010-02-24 06:26:53</td>\n",
       "      <td>7.44237</td>\n",
       "      <td>46.8958</td>\n",
       "      <td>True</td>\n",
       "      <td>313</td>\n",
       "      <td>0.001752</td>\n",
       "      <td>1.422245</td>\n",
       "      <td>1.123650</td>\n",
       "      <td>2.545895</td>\n",
       "    </tr>\n",
       "    <tr>\n",
       "      <th>9575552318</th>\n",
       "      <td>2010-02-24 13:28:52</td>\n",
       "      <td>8.06674</td>\n",
       "      <td>46.3913</td>\n",
       "      <td>True</td>\n",
       "      <td>357</td>\n",
       "      <td>0.000021</td>\n",
       "      <td>0.322862</td>\n",
       "      <td>0.308607</td>\n",
       "      <td>0.631468</td>\n",
       "    </tr>\n",
       "    <tr>\n",
       "      <th>9575623646</th>\n",
       "      <td>2010-02-24 13:30:51</td>\n",
       "      <td>8.06763</td>\n",
       "      <td>46.3910</td>\n",
       "      <td>True</td>\n",
       "      <td>357</td>\n",
       "      <td>0.000029</td>\n",
       "      <td>0.321851</td>\n",
       "      <td>0.308273</td>\n",
       "      <td>0.630124</td>\n",
       "    </tr>\n",
       "    <tr>\n",
       "      <th>9587557928</th>\n",
       "      <td>2010-02-24 18:45:38</td>\n",
       "      <td>8.77847</td>\n",
       "      <td>47.2034</td>\n",
       "      <td>True</td>\n",
       "      <td>50</td>\n",
       "      <td>0.000009</td>\n",
       "      <td>0.020598</td>\n",
       "      <td>1.870394</td>\n",
       "      <td>1.890993</td>\n",
       "    </tr>\n",
       "    <tr>\n",
       "      <th>9621355274</th>\n",
       "      <td>2010-02-25 11:16:50</td>\n",
       "      <td>7.53729</td>\n",
       "      <td>46.8894</td>\n",
       "      <td>True</td>\n",
       "      <td>435</td>\n",
       "      <td>0.001768</td>\n",
       "      <td>1.204855</td>\n",
       "      <td>1.110123</td>\n",
       "      <td>2.314978</td>\n",
       "    </tr>\n",
       "  </tbody>\n",
       "</table>\n",
       "</div>"
      ],
      "text/plain": [
       "                           date  longitude  latitude  used  cluster      diff  \\\n",
       "0                                                                               \n",
       "9564875001  2010-02-24 06:26:53    7.44237   46.8958  True      313  0.001752   \n",
       "9575552318  2010-02-24 13:28:52    8.06674   46.3913  True      357  0.000021   \n",
       "9575623646  2010-02-24 13:30:51    8.06763   46.3910  True      357  0.000029   \n",
       "9587557928  2010-02-24 18:45:38    8.77847   47.2034  True       50  0.000009   \n",
       "9621355274  2010-02-25 11:16:50    7.53729   46.8894  True      435  0.001768   \n",
       "\n",
       "            longdiff   latdiff   totdiff  \n",
       "0                                         \n",
       "9564875001  1.422245  1.123650  2.545895  \n",
       "9575552318  0.322862  0.308607  0.631468  \n",
       "9575623646  0.321851  0.308273  0.630124  \n",
       "9587557928  0.020598  1.870394  1.890993  \n",
       "9621355274  1.204855  1.110123  2.314978  "
      ]
     },
     "execution_count": 108,
     "metadata": {},
     "output_type": "execute_result"
    }
   ],
   "source": [
    "non_urban.head()"
   ]
  },
  {
   "cell_type": "markdown",
   "metadata": {},
   "source": [
    "## Data export\n",
    "\n",
    "We now export all the tweets assigned to cluster and their info, in order to process them in the following notebook"
   ]
  },
  {
   "cell_type": "code",
   "execution_count": 109,
   "metadata": {
    "collapsed": true
   },
   "outputs": [],
   "source": [
    "non_urban[[\"date\", \"longitude\", \"latitude\", \"cluster\"]].to_csv(\"data/cleaned_non_urban_with_clusters_dbscan.tsv\", \"\\t\")"
   ]
  },
  {
   "cell_type": "code",
   "execution_count": 110,
   "metadata": {
    "collapsed": true
   },
   "outputs": [],
   "source": [
    "pd.DataFrame(clusters_centroids).to_csv(\"data/clusters_centers_dbscan.tsv\", sep=\"\\t\")"
   ]
  },
  {
   "cell_type": "code",
   "execution_count": null,
   "metadata": {
    "collapsed": true
   },
   "outputs": [],
   "source": []
  }
 ],
 "metadata": {
  "kernelspec": {
   "display_name": "Python [Root]",
   "language": "python",
   "name": "Python [Root]"
  },
  "language_info": {
   "codemirror_mode": {
    "name": "ipython",
    "version": 3
   },
   "file_extension": ".py",
   "mimetype": "text/x-python",
   "name": "python",
   "nbconvert_exporter": "python",
   "pygments_lexer": "ipython3",
   "version": "3.5.2"
  }
 },
 "nbformat": 4,
 "nbformat_minor": 0
}

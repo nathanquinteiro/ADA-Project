{
 "cells": [
  {
   "cell_type": "code",
   "execution_count": 1,
   "metadata": {
    "collapsed": true
   },
   "outputs": [],
   "source": [
    "import os\n",
    "import json\n",
    "import pandas as pd\n",
    "import csv\n",
    "import sklearn\n",
    "import sklearn.cluster"
   ]
  },
  {
   "cell_type": "code",
   "execution_count": 2,
   "metadata": {
    "collapsed": false
   },
   "outputs": [
    {
     "data": {
      "text/plain": [
       "\"path = 'data/sample.tsv'\\npath = 'data/twex.tsv'\\nnb_fields = 20\""
      ]
     },
     "execution_count": 2,
     "metadata": {},
     "output_type": "execute_result"
    }
   ],
   "source": [
    "\"\"\"path = 'data/sample.tsv'\n",
    "path = 'data/twex.tsv'\n",
    "nb_fields = 20\"\"\""
   ]
  },
  {
   "cell_type": "code",
   "execution_count": 3,
   "metadata": {
    "collapsed": false
   },
   "outputs": [
    {
     "data": {
      "text/plain": [
       "'ids = \"\"\\nwith open(\"data/schema.txt\", \"r\") as schema:\\n    content = schema.readlines()\\n    for line in content:\\n        if(ids == \"\"):\\n            ids = ids + (line.split(\"    \")[1])\\n        else:\\n            ids = ids + \" \" + (line.split(\"    \")[1])\\nidsList = list(ids.split(\" \"))\\nprint(idsList)'"
      ]
     },
     "execution_count": 3,
     "metadata": {},
     "output_type": "execute_result"
    }
   ],
   "source": [
    "\"\"\"ids = \"\"\n",
    "with open(\"data/schema.txt\", \"r\") as schema:\n",
    "    content = schema.readlines()\n",
    "    for line in content:\n",
    "        if(ids == \"\"):\n",
    "            ids = ids + (line.split(\"    \")[1])\n",
    "        else:\n",
    "            ids = ids + \" \" + (line.split(\"    \")[1])\n",
    "idsList = list(ids.split(\" \"))\n",
    "print(idsList)\"\"\""
   ]
  },
  {
   "cell_type": "code",
   "execution_count": 4,
   "metadata": {
    "collapsed": false
   },
   "outputs": [
    {
     "data": {
      "text/plain": [
       "'cleanedPath = \"data/output.tsv\"\\nvalues = []\\nwith open(path) as tsvfile:\\n    content = tsvfile.readlines()\\n    with open(path, \"w\") as outputfile:\\n        for i in range(len(content)):\\n            if i%10000 == 0:\\n                print(\"line:\", i)\\n            line = content[i]\\n            if(len(line.split(\"\\t\")) == nb_fields):\\n                values.append(line.split(\"\\t\"))\\n        tsvfile.close()'"
      ]
     },
     "execution_count": 4,
     "metadata": {},
     "output_type": "execute_result"
    }
   ],
   "source": [
    "'''cleanedPath = \"data/output.tsv\"\n",
    "values = []\n",
    "with open(path) as tsvfile:\n",
    "    content = tsvfile.readlines()\n",
    "    with open(path, \"w\") as outputfile:\n",
    "        for i in range(len(content)):\n",
    "            if i%10000 == 0:\n",
    "                print(\"line:\", i)\n",
    "            line = content[i]\n",
    "            if(len(line.split(\"\\t\")) == nb_fields):\n",
    "                values.append(line.split(\"\\t\"))\n",
    "        tsvfile.close()'''"
   ]
  },
  {
   "cell_type": "code",
   "execution_count": 5,
   "metadata": {
    "collapsed": false
   },
   "outputs": [
    {
     "data": {
      "text/plain": [
       "'cleanedPath = \"data/cleaned.tsv\"\\nwith open(path) as infile:\\n    with open(cleanedPath, \"w\") as outputfile:\\n        i=0\\n        for line in infile:\\n            i = i+1\\n            if i%200000 == 0:\\n                print(\"line:\", i)\\n            line_array = line.split(\"\\t\")\\n            if(len(line_array) == nb_fields):\\n                if line_array[4] != \"\\\\N\":\\n                    outputfile.write(line_array[0])\\n                    outputfile.write(\"\\t\")\\n                    outputfile.write(line_array[2])\\n                    outputfile.write(\"\\t\")\\n                    outputfile.write(line_array[4])\\n                    outputfile.write(\"\\t\")\\n                    outputfile.write(line_array[5])\\n                    outputfile.write(\"\\n\")\\n        outputfile.close()\\n    infile.close()'"
      ]
     },
     "execution_count": 5,
     "metadata": {},
     "output_type": "execute_result"
    }
   ],
   "source": [
    "\"\"\"cleanedPath = \"data/cleaned.tsv\"\n",
    "with open(path) as infile:\n",
    "    with open(cleanedPath, \"w\") as outputfile:\n",
    "        i=0\n",
    "        for line in infile:\n",
    "            i = i+1\n",
    "            if i%200000 == 0:\n",
    "                print(\"line:\", i)\n",
    "            line_array = line.split(\"\\t\")\n",
    "            if(len(line_array) == nb_fields):\n",
    "                if line_array[4] != \"\\\\N\":\n",
    "                    outputfile.write(line_array[0])\n",
    "                    outputfile.write(\"\\t\")\n",
    "                    outputfile.write(line_array[2])\n",
    "                    outputfile.write(\"\\t\")\n",
    "                    outputfile.write(line_array[4])\n",
    "                    outputfile.write(\"\\t\")\n",
    "                    outputfile.write(line_array[5])\n",
    "                    outputfile.write(\"\\n\")\n",
    "        outputfile.close()\n",
    "    infile.close()\"\"\""
   ]
  },
  {
   "cell_type": "code",
   "execution_count": 6,
   "metadata": {
    "collapsed": false
   },
   "outputs": [
    {
     "data": {
      "text/html": [
       "<div>\n",
       "<table border=\"1\" class=\"dataframe\">\n",
       "  <thead>\n",
       "    <tr style=\"text-align: right;\">\n",
       "      <th></th>\n",
       "      <th>Date</th>\n",
       "      <th>Latitude</th>\n",
       "      <th>Longitude</th>\n",
       "    </tr>\n",
       "  </thead>\n",
       "  <tbody>\n",
       "    <tr>\n",
       "      <th>9514097914</th>\n",
       "      <td>2010-02-23 05:55:51</td>\n",
       "      <td>7.43926</td>\n",
       "      <td>46.9489</td>\n",
       "    </tr>\n",
       "    <tr>\n",
       "      <th>9514846412</th>\n",
       "      <td>2010-02-23 06:22:40</td>\n",
       "      <td>8.53781</td>\n",
       "      <td>47.3678</td>\n",
       "    </tr>\n",
       "    <tr>\n",
       "      <th>9516574359</th>\n",
       "      <td>2010-02-23 07:34:25</td>\n",
       "      <td>6.13396</td>\n",
       "      <td>46.1951</td>\n",
       "    </tr>\n",
       "    <tr>\n",
       "      <th>9516952605</th>\n",
       "      <td>2010-02-23 07:51:47</td>\n",
       "      <td>8.81749</td>\n",
       "      <td>47.2288</td>\n",
       "    </tr>\n",
       "    <tr>\n",
       "      <th>9517198943</th>\n",
       "      <td>2010-02-23 08:02:57</td>\n",
       "      <td>6.63254</td>\n",
       "      <td>46.5199</td>\n",
       "    </tr>\n",
       "  </tbody>\n",
       "</table>\n",
       "</div>"
      ],
      "text/plain": [
       "                           Date  Latitude  Longitude\n",
       "9514097914  2010-02-23 05:55:51   7.43926    46.9489\n",
       "9514846412  2010-02-23 06:22:40   8.53781    47.3678\n",
       "9516574359  2010-02-23 07:34:25   6.13396    46.1951\n",
       "9516952605  2010-02-23 07:51:47   8.81749    47.2288\n",
       "9517198943  2010-02-23 08:02:57   6.63254    46.5199"
      ]
     },
     "execution_count": 6,
     "metadata": {},
     "output_type": "execute_result"
    }
   ],
   "source": [
    "data = pd.read_csv(\"data/cleaned.tsv\", sep=\"\\t\", header=None, names=['Date', 'Latitude', 'Longitude'])\n",
    "data.head()"
   ]
  },
  {
   "cell_type": "code",
   "execution_count": 7,
   "metadata": {
    "collapsed": false
   },
   "outputs": [
    {
     "data": {
      "text/plain": [
       "(12438537, 3)"
      ]
     },
     "execution_count": 7,
     "metadata": {},
     "output_type": "execute_result"
    }
   ],
   "source": [
    "data.shape"
   ]
  },
  {
   "cell_type": "code",
   "execution_count": 8,
   "metadata": {
    "collapsed": false,
    "scrolled": true
   },
   "outputs": [
    {
     "data": {
      "text/html": [
       "<div>\n",
       "<table border=\"1\" class=\"dataframe\">\n",
       "  <thead>\n",
       "    <tr style=\"text-align: right;\">\n",
       "      <th></th>\n",
       "      <th>Latitude</th>\n",
       "      <th>Longitude</th>\n",
       "    </tr>\n",
       "  </thead>\n",
       "  <tbody>\n",
       "    <tr>\n",
       "      <th>20992627776159744</th>\n",
       "      <td>9.45234</td>\n",
       "      <td>47.3597</td>\n",
       "    </tr>\n",
       "    <tr>\n",
       "      <th>20994063574499328</th>\n",
       "      <td>8.50139</td>\n",
       "      <td>47.4030</td>\n",
       "    </tr>\n",
       "    <tr>\n",
       "      <th>20999004200370176</th>\n",
       "      <td>8.40702</td>\n",
       "      <td>47.4242</td>\n",
       "    </tr>\n",
       "    <tr>\n",
       "      <th>20999904390291457</th>\n",
       "      <td>7.47791</td>\n",
       "      <td>47.1382</td>\n",
       "    </tr>\n",
       "    <tr>\n",
       "      <th>21004302428405760</th>\n",
       "      <td>8.27334</td>\n",
       "      <td>47.3663</td>\n",
       "    </tr>\n",
       "  </tbody>\n",
       "</table>\n",
       "</div>"
      ],
      "text/plain": [
       "                   Latitude  Longitude\n",
       "20992627776159744   9.45234    47.3597\n",
       "20994063574499328   8.50139    47.4030\n",
       "20999004200370176   8.40702    47.4242\n",
       "20999904390291457   7.47791    47.1382\n",
       "21004302428405760   8.27334    47.3663"
      ]
     },
     "execution_count": 8,
     "metadata": {},
     "output_type": "execute_result"
    }
   ],
   "source": [
    "data01 = data[data['Date'].str.contains(\"2010-01|2011-01|2012-01|2013-01|2014-01|2015-01|2016-01\")].drop(['Date'], axis=1)\n",
    "data01.head()"
   ]
  },
  {
   "cell_type": "code",
   "execution_count": 9,
   "metadata": {
    "collapsed": false
   },
   "outputs": [
    {
     "data": {
      "text/plain": [
       "(1255974, 2)"
      ]
     },
     "execution_count": 9,
     "metadata": {},
     "output_type": "execute_result"
    }
   ],
   "source": [
    "data01.shape"
   ]
  },
  {
   "cell_type": "code",
   "execution_count": 10,
   "metadata": {
    "collapsed": false
   },
   "outputs": [
    {
     "data": {
      "text/html": [
       "<div>\n",
       "<table border=\"1\" class=\"dataframe\">\n",
       "  <thead>\n",
       "    <tr style=\"text-align: right;\">\n",
       "      <th></th>\n",
       "      <th>Latitude</th>\n",
       "      <th>Longitude</th>\n",
       "    </tr>\n",
       "  </thead>\n",
       "  <tbody>\n",
       "    <tr>\n",
       "      <th>20992627776159744</th>\n",
       "      <td>9.45234</td>\n",
       "      <td>47.3597</td>\n",
       "    </tr>\n",
       "    <tr>\n",
       "      <th>20994063574499328</th>\n",
       "      <td>8.50139</td>\n",
       "      <td>47.4030</td>\n",
       "    </tr>\n",
       "    <tr>\n",
       "      <th>20999004200370176</th>\n",
       "      <td>8.40702</td>\n",
       "      <td>47.4242</td>\n",
       "    </tr>\n",
       "    <tr>\n",
       "      <th>20999904390291457</th>\n",
       "      <td>7.47791</td>\n",
       "      <td>47.1382</td>\n",
       "    </tr>\n",
       "    <tr>\n",
       "      <th>21004302428405760</th>\n",
       "      <td>8.27334</td>\n",
       "      <td>47.3663</td>\n",
       "    </tr>\n",
       "  </tbody>\n",
       "</table>\n",
       "</div>"
      ],
      "text/plain": [
       "                   Latitude  Longitude\n",
       "20992627776159744   9.45234    47.3597\n",
       "20994063574499328   8.50139    47.4030\n",
       "20999004200370176   8.40702    47.4242\n",
       "20999904390291457   7.47791    47.1382\n",
       "21004302428405760   8.27334    47.3663"
      ]
     },
     "execution_count": 10,
     "metadata": {},
     "output_type": "execute_result"
    }
   ],
   "source": [
    "data2011_01 = data[data['Date'].str.contains(\"2011-01\")].drop(['Date'], axis=1)\n",
    "data2011_01.head()"
   ]
  },
  {
   "cell_type": "code",
   "execution_count": 11,
   "metadata": {
    "collapsed": false
   },
   "outputs": [
    {
     "data": {
      "text/plain": [
       "(3432, 2)"
      ]
     },
     "execution_count": 11,
     "metadata": {},
     "output_type": "execute_result"
    }
   ],
   "source": [
    "data2011_01.shape"
   ]
  },
  {
   "cell_type": "code",
   "execution_count": 12,
   "metadata": {
    "collapsed": false
   },
   "outputs": [],
   "source": [
    "n_clusters = 2500\n",
    "kmeans_results = sklearn.cluster.k_means(data01, n_clusters, init='k-means++', precompute_distances='auto', n_init=10, max_iter=300, verbose=False, tol=0.0001, random_state=None, copy_x=True, n_jobs=1, return_n_iter=True)"
   ]
  },
  {
   "cell_type": "code",
   "execution_count": 13,
   "metadata": {
    "collapsed": false
   },
   "outputs": [
    {
     "data": {
      "text/plain": [
       "(array([[  6.13652199,  45.90790815],\n",
       "        [  8.48046917,  47.3825423 ],\n",
       "        [-77.3803    ,  38.9328    ],\n",
       "        ..., \n",
       "        [  8.185325  ,  46.72944216],\n",
       "        [  9.92730669,  45.90113898],\n",
       "        [  7.57037217,  46.65554348]]),\n",
       " array([ 574, 1799, 1749, ...,  603, 2002, 2418], dtype=int32),\n",
       " 62.60105384019189,\n",
       " 9)"
      ]
     },
     "execution_count": 13,
     "metadata": {},
     "output_type": "execute_result"
    }
   ],
   "source": [
    "kmeans_results"
   ]
  },
  {
   "cell_type": "code",
   "execution_count": 14,
   "metadata": {
    "collapsed": false
   },
   "outputs": [
    {
     "data": {
      "text/plain": [
       "5000"
      ]
     },
     "execution_count": 14,
     "metadata": {},
     "output_type": "execute_result"
    }
   ],
   "source": [
    "kmeans_results[0].size"
   ]
  },
  {
   "cell_type": "code",
   "execution_count": null,
   "metadata": {
    "collapsed": true
   },
   "outputs": [],
   "source": []
  },
  {
   "cell_type": "code",
   "execution_count": null,
   "metadata": {
    "collapsed": false
   },
   "outputs": [],
   "source": []
  }
 ],
 "metadata": {
  "anaconda-cloud": {},
  "kernelspec": {
   "display_name": "Python [Root]",
   "language": "python",
   "name": "Python [Root]"
  },
  "language_info": {
   "codemirror_mode": {
    "name": "ipython",
    "version": 3
   },
   "file_extension": ".py",
   "mimetype": "text/x-python",
   "name": "python",
   "nbconvert_exporter": "python",
   "pygments_lexer": "ipython3",
   "version": "3.5.2"
  }
 },
 "nbformat": 4,
 "nbformat_minor": 0
}

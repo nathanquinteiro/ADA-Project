{
 "cells": [
  {
   "cell_type": "markdown",
   "metadata": {
    "collapsed": false
   },
   "source": [
    "# Data Cleaning and Urban separation\n",
    "\n",
    "This notebook is first used to clean twitter data and keep only useful information. \n",
    "\n",
    "It then produce, using the cleaned data, a \"Urban mask\" on the tweets. The mask will give the information if the tweet was written in a urban area of switzerland, or in a non-urban area.\n",
    "\n",
    "Using only non-urban tweets, a k-mean clustering algorithm is run in order to detect area of interests in non-urban zone of Switzerland. \n",
    "\n",
    "This script produces a tsv file containing for each non-urban area: The id, date, latitude, longitude, and the cluster it has been assigned too. Another tsv file containing clusters information is produced."
   ]
  },
  {
   "cell_type": "code",
   "execution_count": 12,
   "metadata": {
    "collapsed": true
   },
   "outputs": [],
   "source": [
    "#Imports\n",
    "import os\n",
    "import json\n",
    "import pandas as pd\n",
    "import numpy as np\n",
    "import csv\n",
    "# Install GDAL for python to read TIFF urban mask :\n",
    "#conda install -c conda-forge gdal=2.1.2\n",
    "import gdal \n"
   ]
  },
  {
   "cell_type": "markdown",
   "metadata": {},
   "source": [
    "## Data import\n",
    "\n",
    "The data twex.tsv is read line by line. Each row should contain 20 elements. Since there are unclean data, it occurs that some tweets are separated on several line. Since there are around 20Millions of tweets, we can afford do discard the unclean ones.\n",
    "\n",
    "We therefore only keep the rows with exactly 20 elements, and keep only the id, date, latitude, longitude of the tweet.\n",
    "\n",
    "*PS: The code has been commented to avoid running each time, the next cell loads directly the clean file*"
   ]
  },
  {
   "cell_type": "code",
   "execution_count": 41,
   "metadata": {
    "collapsed": false
   },
   "outputs": [
    {
     "data": {
      "text/plain": [
       "'\\npath = \\'data/twex.tsv\\'\\nnb_fields = 20\\ncleanedPath = \"data/cleaned.tsv\"\\nwith open(path) as infile:\\n    with open(cleanedPath, \"w\") as outputfile:\\n        i=0\\n        for line in infile:\\n            i = i+1\\n            if i%200000 == 0:\\n                print(\"line:\", i)\\n            line_array = line.split(\"\\t\")\\n            if(len(line_array) == nb_fields):\\n                if line_array[4] != \"\\\\N\":\\n                    outputfile.write(line_array[0])\\n                    outputfile.write(\"\\t\")\\n                    outputfile.write(line_array[2])\\n                    outputfile.write(\"\\t\")\\n                    outputfile.write(line_array[4])\\n                    outputfile.write(\"\\t\")\\n                    outputfile.write(line_array[5])\\n                    outputfile.write(\"\\n\")\\n        outputfile.close()\\n    infile.close()'"
      ]
     },
     "execution_count": 41,
     "metadata": {},
     "output_type": "execute_result"
    }
   ],
   "source": [
    "\"\"\"\n",
    "path = 'data/twex.tsv'\n",
    "nb_fields = 20\n",
    "cleanedPath = \"data/cleaned.tsv\"\n",
    "with open(path) as infile:\n",
    "    with open(cleanedPath, \"w\") as outputfile:\n",
    "        i=0\n",
    "        for line in infile:\n",
    "            i = i+1\n",
    "            if i%200000 == 0:\n",
    "                print(\"line:\", i)\n",
    "            line_array = line.split(\"\\t\")\n",
    "            if(len(line_array) == nb_fields):\n",
    "                if line_array[4] != \"\\\\N\":\n",
    "                    outputfile.write(line_array[0])\n",
    "                    outputfile.write(\"\\t\")\n",
    "                    outputfile.write(line_array[2])\n",
    "                    outputfile.write(\"\\t\")\n",
    "                    outputfile.write(line_array[4])\n",
    "                    outputfile.write(\"\\t\")\n",
    "                    outputfile.write(line_array[5])\n",
    "                    outputfile.write(\"\\n\")\n",
    "        outputfile.close()\n",
    "    infile.close()\"\"\""
   ]
  },
  {
   "cell_type": "code",
   "execution_count": 4,
   "metadata": {
    "collapsed": false
   },
   "outputs": [],
   "source": [
    "data = pd.DataFrame.from_csv(\"data/cleaned.tsv\", sep=\"\\t\", header=None)"
   ]
  },
  {
   "cell_type": "code",
   "execution_count": null,
   "metadata": {
    "collapsed": false,
    "scrolled": true
   },
   "outputs": [],
   "source": [
    "data.columns=[\"date\",\"longitude\",\"latitude\"]\n",
    "localisation = data[[\"latitude\",\"longitude\"]]\n",
    "data.head()"
   ]
  },
  {
   "cell_type": "code",
   "execution_count": null,
   "metadata": {
    "collapsed": true
   },
   "outputs": [],
   "source": [
    "data.as_matrix().shape"
   ]
  },
  {
   "cell_type": "markdown",
   "metadata": {
    "collapsed": false
   },
   "source": [
    "## Urban Mask\n",
    "\n",
    "### Reading mask file\n",
    "\n",
    "We read the urban mask in TIFF format generated by the Google Earth engine code, based on NDBI of Switzerland."
   ]
  },
  {
   "cell_type": "code",
   "execution_count": 6,
   "metadata": {
    "collapsed": false
   },
   "outputs": [
    {
     "name": "stdout",
     "output_type": "stream",
     "text": [
      "Driver:  GTiff / GeoTIFF\n",
      "Size is  10521 x 4661 x 1\n",
      "Projection is  GEOGCS[\"WGS 84\",DATUM[\"WGS_1984\",SPHEROID[\"WGS 84\",6378137,298.257223563,AUTHORITY[\"EPSG\",\"7030\"]],AUTHORITY[\"EPSG\",\"6326\"]],PRIMEM[\"Greenwich\",0],UNIT[\"degree\",0.0174532925199433],AUTHORITY[\"EPSG\",\"4326\"]]\n",
      "Origin = ( 5.880821007488448 , 47.886043692917276 )\n",
      "Pixel Size = ( 0.00044915764205976077 , -0.00044915764205976077 )\n"
     ]
    }
   ],
   "source": [
    "dataset = gdal.Open( \"data/urban_mask.tif\" )\n",
    "\n",
    "\n",
    "print('Driver: ', dataset.GetDriver().ShortName,'/', \\\n",
    "      dataset.GetDriver().LongName)\n",
    "print( 'Size is ',dataset.RasterXSize,'x',dataset.RasterYSize, \\\n",
    "      'x',dataset.RasterCount)\n",
    "print( 'Projection is ',dataset.GetProjection())\n",
    "geotransform = dataset.GetGeoTransform()\n",
    "if not geotransform is None:\n",
    "    print( 'Origin = (',geotransform[0], ',',geotransform[3],')')\n",
    "    print( 'Pixel Size = (',geotransform[1], ',',geotransform[5],')')"
   ]
  },
  {
   "cell_type": "markdown",
   "metadata": {},
   "source": [
    "We compute the base information about the mask image, and display the two extreme locations."
   ]
  },
  {
   "cell_type": "code",
   "execution_count": 22,
   "metadata": {
    "collapsed": false
   },
   "outputs": [
    {
     "name": "stdout",
     "output_type": "stream",
     "text": [
      "topLeft: 5.880821007488448 47.886043692917276\n",
      "bottomRight: 10.606408559599192 45.79251992327673\n"
     ]
    }
   ],
   "source": [
    "srcband = dataset.GetRasterBand(1)\n",
    "#stats = srcband.GetStatistics( True, True )\n",
    "\n",
    "mask = srcband.ReadAsArray(0, 0, srcband.XSize, srcband.YSize)\n",
    "\n",
    "topleftX = geotransform[0]\n",
    "topleftY = geotransform[3]\n",
    "pixelsizeX = geotransform[1]\n",
    "pixelsizeY = geotransform[5]\n",
    "\n",
    "bottomrightX = topleftX+(pixelsizeX*dataset.RasterXSize)\n",
    "bottomrightY = topleftY+(pixelsizeY*dataset.RasterYSize)\n",
    "\n",
    "\n",
    "print(\"topLeft:\", topleftX, topleftY)\n",
    "print(\"bottomRight:\", bottomrightX, bottomrightY)"
   ]
  },
  {
   "cell_type": "markdown",
   "metadata": {},
   "source": [
    "Save/Load the mask as numpy array to be reused"
   ]
  },
  {
   "cell_type": "code",
   "execution_count": 8,
   "metadata": {
    "collapsed": false
   },
   "outputs": [],
   "source": [
    "np.save(\"data/urban_mask.npy\", mask)"
   ]
  },
  {
   "cell_type": "code",
   "execution_count": 9,
   "metadata": {
    "collapsed": false
   },
   "outputs": [],
   "source": [
    "mask = np.load('data/urban_mask.npy')"
   ]
  },
  {
   "cell_type": "markdown",
   "metadata": {},
   "source": [
    "Compute the rate of Urban and non Urban area on the mask"
   ]
  },
  {
   "cell_type": "code",
   "execution_count": 15,
   "metadata": {
    "collapsed": false
   },
   "outputs": [
    {
     "name": "stdout",
     "output_type": "stream",
     "text": [
      "Urban area represents: 23.951924514 %\n",
      "Non-urban area represents: 76.048075486 %\n"
     ]
    }
   ],
   "source": [
    "mask_surface = mask.shape[0]*mask.shape[1]\n",
    "urban_rate = mask.sum()/mask_surface\n",
    "print(\"Urban area represents:\", urban_rate*100, \"%\")\n",
    "print(\"Non-urban area represents:\", 100-(urban_rate*100), \"%\")"
   ]
  },
  {
   "cell_type": "markdown",
   "metadata": {
    "collapsed": true
   },
   "source": [
    "### Filtering tweets\n",
    "\n",
    "In order to filter the tweets by Urban/non-urban Zone, we apply a function to each of them that will use the urban-mask and the tweet location. \n",
    "\n",
    "We add a column \"used\" to the dataframe, when the tweet is in non-urban area used is True, when tweet is in urban area, used is false."
   ]
  },
  {
   "cell_type": "code",
   "execution_count": 23,
   "metadata": {
    "collapsed": true
   },
   "outputs": [],
   "source": [
    "#Return true if long/lat is located in non-urban area, false otherwise\n",
    "def getValue(long, lat): \n",
    "    xPos = int(1.0 * (long - topleftX) / (bottomrightX - topleftX) * srcband.XSize)\n",
    "    yPos = srcband.YSize-1  - int(1.0 * (lat - bottomrightY) / (topleftY - bottomrightY) * srcband.YSize)\n",
    "    if (xPos >= srcband.XSize or xPos < 0):\n",
    "        return False\n",
    "    if (yPos >= srcband.YSize or yPos < 0):\n",
    "        return False\n",
    "    return mask[yPos, xPos] == 0\n",
    "\n",
    "#Return true if tweet is located in non-urban area, false otherwise\n",
    "def getValueFrame(row): \n",
    "    long = row[\"longitude\"]\n",
    "    lat = row[\"latitude\"]\n",
    "    return getValue(long, lat)"
   ]
  },
  {
   "cell_type": "code",
   "execution_count": 14,
   "metadata": {
    "collapsed": false,
    "scrolled": true
   },
   "outputs": [
    {
     "data": {
      "text/html": [
       "<div>\n",
       "<table border=\"1\" class=\"dataframe\">\n",
       "  <thead>\n",
       "    <tr style=\"text-align: right;\">\n",
       "      <th></th>\n",
       "      <th>date</th>\n",
       "      <th>longitude</th>\n",
       "      <th>latitude</th>\n",
       "      <th>used</th>\n",
       "    </tr>\n",
       "    <tr>\n",
       "      <th>0</th>\n",
       "      <th></th>\n",
       "      <th></th>\n",
       "      <th></th>\n",
       "      <th></th>\n",
       "    </tr>\n",
       "  </thead>\n",
       "  <tbody>\n",
       "    <tr>\n",
       "      <th>9514097914</th>\n",
       "      <td>2010-02-23 05:55:51</td>\n",
       "      <td>7.43926</td>\n",
       "      <td>46.9489</td>\n",
       "      <td>False</td>\n",
       "    </tr>\n",
       "    <tr>\n",
       "      <th>9514846412</th>\n",
       "      <td>2010-02-23 06:22:40</td>\n",
       "      <td>8.53781</td>\n",
       "      <td>47.3678</td>\n",
       "      <td>False</td>\n",
       "    </tr>\n",
       "    <tr>\n",
       "      <th>9516574359</th>\n",
       "      <td>2010-02-23 07:34:25</td>\n",
       "      <td>6.13396</td>\n",
       "      <td>46.1951</td>\n",
       "      <td>False</td>\n",
       "    </tr>\n",
       "    <tr>\n",
       "      <th>9516952605</th>\n",
       "      <td>2010-02-23 07:51:47</td>\n",
       "      <td>8.81749</td>\n",
       "      <td>47.2288</td>\n",
       "      <td>False</td>\n",
       "    </tr>\n",
       "    <tr>\n",
       "      <th>9517198943</th>\n",
       "      <td>2010-02-23 08:02:57</td>\n",
       "      <td>6.63254</td>\n",
       "      <td>46.5199</td>\n",
       "      <td>False</td>\n",
       "    </tr>\n",
       "  </tbody>\n",
       "</table>\n",
       "</div>"
      ],
      "text/plain": [
       "                           date  longitude  latitude   used\n",
       "0                                                          \n",
       "9514097914  2010-02-23 05:55:51    7.43926   46.9489  False\n",
       "9514846412  2010-02-23 06:22:40    8.53781   47.3678  False\n",
       "9516574359  2010-02-23 07:34:25    6.13396   46.1951  False\n",
       "9516952605  2010-02-23 07:51:47    8.81749   47.2288  False\n",
       "9517198943  2010-02-23 08:02:57    6.63254   46.5199  False"
      ]
     },
     "execution_count": 14,
     "metadata": {},
     "output_type": "execute_result"
    }
   ],
   "source": [
    "urbanized = data\n",
    "urbanized[\"used\"] = urbanized.apply(getValueFrame, axis=1)\n",
    "urbanized.head()"
   ]
  },
  {
   "cell_type": "markdown",
   "metadata": {},
   "source": [
    "We compute and display the rate and numbers of used tweets (Tweets in non-urban area)"
   ]
  },
  {
   "cell_type": "code",
   "execution_count": 21,
   "metadata": {
    "collapsed": false
   },
   "outputs": [
    {
     "name": "stdout",
     "output_type": "stream",
     "text": [
      "Rate of tweets in non-urban areas: 9.64230761222\n",
      "Number of tweets in non-urban areas: 1.199362 Millions\n"
     ]
    }
   ],
   "source": [
    "used_tweets_rate = (urbanized[urbanized['used'] == True].count()/urbanized.count())[\"used\"]\n",
    "\n",
    "print(\"Rate of tweets in non-urban areas:\", used_tweets_rate*100)\n",
    "print(\"Number of tweets in non-urban areas:\", urbanized[urbanized['used'] == True].count()[\"used\"]/1000000, \"Millions\")"
   ]
  },
  {
   "cell_type": "markdown",
   "metadata": {},
   "source": [
    "Save the dataframe of all tweets with \"used\" information."
   ]
  },
  {
   "cell_type": "code",
   "execution_count": 48,
   "metadata": {
    "collapsed": true
   },
   "outputs": [],
   "source": [
    "urbanized.to_csv(\"data/cleaned_urbanity_all.tsv\", sep=\"\\t\")"
   ]
  },
  {
   "cell_type": "code",
   "execution_count": 24,
   "metadata": {
    "collapsed": true
   },
   "outputs": [],
   "source": [
    "urbanized = pd.DataFrame.from_csv(\"data/cleaned_urbanity_all.tsv\", sep=\"\\t\")"
   ]
  },
  {
   "cell_type": "code",
   "execution_count": 29,
   "metadata": {
    "collapsed": false
   },
   "outputs": [],
   "source": [
    "non_urban = urbanized[urbanized[\"used\"] == True].copy()\n",
    "non_urban.to_csv(\"data/cleaned_non_urban.tsv\", sep=\"\\t\")"
   ]
  },
  {
   "cell_type": "code",
   "execution_count": 2,
   "metadata": {
    "collapsed": true
   },
   "outputs": [],
   "source": [
    "non_urban = pd.DataFrame.from_csv(\"data/cleaned_non_urban.tsv\", sep=\"\\t\")"
   ]
  },
  {
   "cell_type": "code",
   "execution_count": 3,
   "metadata": {
    "collapsed": false
   },
   "outputs": [
    {
     "data": {
      "text/html": [
       "<div>\n",
       "<table border=\"1\" class=\"dataframe\">\n",
       "  <thead>\n",
       "    <tr style=\"text-align: right;\">\n",
       "      <th></th>\n",
       "      <th>date</th>\n",
       "      <th>longitude</th>\n",
       "      <th>latitude</th>\n",
       "      <th>used</th>\n",
       "    </tr>\n",
       "    <tr>\n",
       "      <th>0</th>\n",
       "      <th></th>\n",
       "      <th></th>\n",
       "      <th></th>\n",
       "      <th></th>\n",
       "    </tr>\n",
       "  </thead>\n",
       "  <tbody>\n",
       "    <tr>\n",
       "      <th>9564875001</th>\n",
       "      <td>2010-02-24 06:26:53</td>\n",
       "      <td>7.44237</td>\n",
       "      <td>46.8958</td>\n",
       "      <td>True</td>\n",
       "    </tr>\n",
       "    <tr>\n",
       "      <th>9575552318</th>\n",
       "      <td>2010-02-24 13:28:52</td>\n",
       "      <td>8.06674</td>\n",
       "      <td>46.3913</td>\n",
       "      <td>True</td>\n",
       "    </tr>\n",
       "    <tr>\n",
       "      <th>9575623646</th>\n",
       "      <td>2010-02-24 13:30:51</td>\n",
       "      <td>8.06763</td>\n",
       "      <td>46.3910</td>\n",
       "      <td>True</td>\n",
       "    </tr>\n",
       "    <tr>\n",
       "      <th>9587557928</th>\n",
       "      <td>2010-02-24 18:45:38</td>\n",
       "      <td>8.77847</td>\n",
       "      <td>47.2034</td>\n",
       "      <td>True</td>\n",
       "    </tr>\n",
       "    <tr>\n",
       "      <th>9621355274</th>\n",
       "      <td>2010-02-25 11:16:50</td>\n",
       "      <td>7.53729</td>\n",
       "      <td>46.8894</td>\n",
       "      <td>True</td>\n",
       "    </tr>\n",
       "  </tbody>\n",
       "</table>\n",
       "</div>"
      ],
      "text/plain": [
       "                           date  longitude  latitude  used\n",
       "0                                                         \n",
       "9564875001  2010-02-24 06:26:53    7.44237   46.8958  True\n",
       "9575552318  2010-02-24 13:28:52    8.06674   46.3913  True\n",
       "9575623646  2010-02-24 13:30:51    8.06763   46.3910  True\n",
       "9587557928  2010-02-24 18:45:38    8.77847   47.2034  True\n",
       "9621355274  2010-02-25 11:16:50    7.53729   46.8894  True"
      ]
     },
     "execution_count": 3,
     "metadata": {},
     "output_type": "execute_result"
    }
   ],
   "source": [
    "non_urban.head()"
   ]
  },
  {
   "cell_type": "code",
   "execution_count": null,
   "metadata": {
    "collapsed": false
   },
   "outputs": [],
   "source": []
  },
  {
   "cell_type": "markdown",
   "metadata": {},
   "source": [
    "## Clustering\n",
    "\n",
    "Now that we know the interesting tweets, we can cluster them in order to find area of interests."
   ]
  },
  {
   "cell_type": "code",
   "execution_count": 4,
   "metadata": {
    "collapsed": false
   },
   "outputs": [
    {
     "data": {
      "text/plain": [
       "(1199362, 2)"
      ]
     },
     "execution_count": 4,
     "metadata": {},
     "output_type": "execute_result"
    }
   ],
   "source": [
    "array_data = non_urban[[\"longitude\",\"latitude\"]].as_matrix()\n",
    "array_data.shape"
   ]
  },
  {
   "cell_type": "code",
   "execution_count": 5,
   "metadata": {
    "collapsed": false
   },
   "outputs": [
    {
     "data": {
      "text/plain": [
       "array([[  7.49776,  46.3106 ],\n",
       "       [  8.6075 ,  47.5397 ],\n",
       "       [  6.74174,  47.5812 ],\n",
       "       ..., \n",
       "       [  7.1375 ,  46.8429 ],\n",
       "       [  7.38152,  46.9666 ],\n",
       "       [  8.43896,  46.8206 ]])"
      ]
     },
     "execution_count": 5,
     "metadata": {},
     "output_type": "execute_result"
    }
   ],
   "source": [
    "idx = np.random.randint(array_data.shape[0], size=200000)\n",
    "subset = array_data[idx]\n",
    "subset"
   ]
  },
  {
   "cell_type": "code",
   "execution_count": null,
   "metadata": {
    "collapsed": false
   },
   "outputs": [],
   "source": []
  },
  {
   "cell_type": "code",
   "execution_count": null,
   "metadata": {
    "collapsed": false
   },
   "outputs": [],
   "source": []
  },
  {
   "cell_type": "code",
   "execution_count": 19,
   "metadata": {
    "collapsed": false
   },
   "outputs": [
    {
     "name": "stdout",
     "output_type": "stream",
     "text": [
      "Estimated number of clusters: 1652\n"
     ]
    }
   ],
   "source": [
    "from sklearn.cluster import DBSCAN\n",
    "from sklearn import metrics\n",
    "from sklearn.datasets.samples_generator import make_blobs\n",
    "from sklearn.preprocessing import StandardScaler\n",
    "\n",
    "db = DBSCAN(eps=0.01, min_samples=10).fit(subset)\n",
    "core_samples_mask = np.zeros_like(db.labels_, dtype=bool)\n",
    "core_samples_mask[db.core_sample_indices_] = True\n",
    "labels = db.labels_\n",
    "\n",
    "# Number of clusters in labels, ignoring noise if present.\n",
    "n_clusters_ = len(set(labels)) - (1 if -1 in labels else 0)\n",
    "\n",
    "print('Estimated number of clusters: %d' % n_clusters_)\n"
   ]
  },
  {
   "cell_type": "code",
   "execution_count": 20,
   "metadata": {
    "collapsed": false
   },
   "outputs": [
    {
     "data": {
      "text/html": [
       "<div>\n",
       "<table border=\"1\" class=\"dataframe\">\n",
       "  <thead>\n",
       "    <tr style=\"text-align: right;\">\n",
       "      <th></th>\n",
       "      <th>longitude</th>\n",
       "      <th>latitude</th>\n",
       "    </tr>\n",
       "    <tr>\n",
       "      <th>cluster</th>\n",
       "      <th></th>\n",
       "      <th></th>\n",
       "    </tr>\n",
       "  </thead>\n",
       "  <tbody>\n",
       "    <tr>\n",
       "      <th>-1</th>\n",
       "      <td>15489</td>\n",
       "      <td>15489</td>\n",
       "    </tr>\n",
       "    <tr>\n",
       "      <th>10</th>\n",
       "      <td>9095</td>\n",
       "      <td>9095</td>\n",
       "    </tr>\n",
       "    <tr>\n",
       "      <th>88</th>\n",
       "      <td>6237</td>\n",
       "      <td>6237</td>\n",
       "    </tr>\n",
       "    <tr>\n",
       "      <th>70</th>\n",
       "      <td>5960</td>\n",
       "      <td>5960</td>\n",
       "    </tr>\n",
       "    <tr>\n",
       "      <th>37</th>\n",
       "      <td>5415</td>\n",
       "      <td>5415</td>\n",
       "    </tr>\n",
       "  </tbody>\n",
       "</table>\n",
       "</div>"
      ],
      "text/plain": [
       "         longitude  latitude\n",
       "cluster                     \n",
       "-1           15489     15489\n",
       " 10           9095      9095\n",
       " 88           6237      6237\n",
       " 70           5960      5960\n",
       " 37           5415      5415"
      ]
     },
     "execution_count": 20,
     "metadata": {},
     "output_type": "execute_result"
    }
   ],
   "source": [
    "test = pd.DataFrame(subset)\n",
    "test.columns = [\"longitude\",\"latitude\"]\n",
    "test[\"cluster\"] = labels\n",
    "test.groupby(\"cluster\").count().sort_values(\"longitude\",ascending=False).head()"
   ]
  },
  {
   "cell_type": "code",
   "execution_count": 21,
   "metadata": {
    "collapsed": false
   },
   "outputs": [
    {
     "data": {
      "text/html": [
       "<div>\n",
       "<table border=\"1\" class=\"dataframe\">\n",
       "  <thead>\n",
       "    <tr style=\"text-align: right;\">\n",
       "      <th></th>\n",
       "      <th>longitude</th>\n",
       "      <th>latitude</th>\n",
       "    </tr>\n",
       "    <tr>\n",
       "      <th>cluster</th>\n",
       "      <th></th>\n",
       "      <th></th>\n",
       "    </tr>\n",
       "  </thead>\n",
       "  <tbody>\n",
       "    <tr>\n",
       "      <th>10</th>\n",
       "      <td>9095</td>\n",
       "      <td>9095</td>\n",
       "    </tr>\n",
       "    <tr>\n",
       "      <th>88</th>\n",
       "      <td>6237</td>\n",
       "      <td>6237</td>\n",
       "    </tr>\n",
       "    <tr>\n",
       "      <th>70</th>\n",
       "      <td>5960</td>\n",
       "      <td>5960</td>\n",
       "    </tr>\n",
       "    <tr>\n",
       "      <th>37</th>\n",
       "      <td>5415</td>\n",
       "      <td>5415</td>\n",
       "    </tr>\n",
       "    <tr>\n",
       "      <th>52</th>\n",
       "      <td>4179</td>\n",
       "      <td>4179</td>\n",
       "    </tr>\n",
       "  </tbody>\n",
       "</table>\n",
       "</div>"
      ],
      "text/plain": [
       "         longitude  latitude\n",
       "cluster                     \n",
       "10            9095      9095\n",
       "88            6237      6237\n",
       "70            5960      5960\n",
       "37            5415      5415\n",
       "52            4179      4179"
      ]
     },
     "execution_count": 21,
     "metadata": {},
     "output_type": "execute_result"
    }
   ],
   "source": [
    "test_cleaned = test[test.cluster != -1]\n",
    "test_cleaned.head()\n",
    "test_cleaned.groupby(\"cluster\").count().sort_values(\"longitude\",ascending=False).head()\n"
   ]
  },
  {
   "cell_type": "code",
   "execution_count": 22,
   "metadata": {
    "collapsed": false
   },
   "outputs": [],
   "source": [
    "test_array_data = test_cleaned[[\"longitude\",\"latitude\"]].as_matrix()\n",
    "test_array_labels = test_cleaned[[\"cluster\"]].as_matrix()"
   ]
  },
  {
   "cell_type": "code",
   "execution_count": 23,
   "metadata": {
    "collapsed": false
   },
   "outputs": [
    {
     "data": {
      "image/png": "[encoded data removed]",
      "text/plain": [
       "<matplotlib.figure.Figure at 0x7f7f745ca320>"
      ]
     },
     "metadata": {},
     "output_type": "display_data"
    }
   ],
   "source": [
    "# plotting\n",
    "%matplotlib inline\n",
    "import matplotlib.pyplot as plt\n",
    "plt.scatter(*np.transpose(test_array_data), c=test_array_labels)\n",
    "plt.axis(\"equal\")\n",
    "title = \"DBSCAN\"\n",
    "plt.title(title)\n",
    "\n",
    "axes = plt.gca()\n",
    "axes.set_xlim([6,6.1])\n",
    "axes.set_ylim([45.9,46])\n",
    "plt.show()"
   ]
  },
  {
   "cell_type": "code",
   "execution_count": 39,
   "metadata": {
    "collapsed": false
   },
   "outputs": [
    {
     "data": {
      "text/plain": [
       "array([[  0.00000000e+00,   7.48730529e+00,   4.63051794e+01],\n",
       "       [  1.00000000e+00,   8.60737692e+00,   4.75395154e+01],\n",
       "       [  2.00000000e+00,   6.74157785e+00,   4.75807245e+01],\n",
       "       ..., \n",
       "       [  1.64900000e+03,   8.51285700e+00,   4.70706900e+01],\n",
       "       [  1.65000000e+03,   7.37530400e+00,   4.68200300e+01],\n",
       "       [  1.65100000e+03,   8.43965100e+00,   4.65936300e+01]])"
      ]
     },
     "execution_count": 39,
     "metadata": {},
     "output_type": "execute_result"
    }
   ],
   "source": [
    "clusters_centroids = test_cleaned.groupby(\"cluster\").mean().reset_index().as_matrix()\n",
    "clusters_centroids"
   ]
  },
  {
   "cell_type": "code",
   "execution_count": 35,
   "metadata": {
    "collapsed": false
   },
   "outputs": [
    {
     "data": {
      "text/html": [
       "<div>\n",
       "<table border=\"1\" class=\"dataframe\">\n",
       "  <thead>\n",
       "    <tr style=\"text-align: right;\">\n",
       "      <th></th>\n",
       "      <th>date</th>\n",
       "      <th>longitude</th>\n",
       "      <th>latitude</th>\n",
       "      <th>used</th>\n",
       "      <th>cluster</th>\n",
       "    </tr>\n",
       "    <tr>\n",
       "      <th>0</th>\n",
       "      <th></th>\n",
       "      <th></th>\n",
       "      <th></th>\n",
       "      <th></th>\n",
       "      <th></th>\n",
       "    </tr>\n",
       "  </thead>\n",
       "  <tbody>\n",
       "    <tr>\n",
       "      <th>9564875001</th>\n",
       "      <td>2010-02-24 06:26:53</td>\n",
       "      <td>7.44237</td>\n",
       "      <td>46.8958</td>\n",
       "      <td>True</td>\n",
       "      <td>-1</td>\n",
       "    </tr>\n",
       "    <tr>\n",
       "      <th>9575552318</th>\n",
       "      <td>2010-02-24 13:28:52</td>\n",
       "      <td>8.06674</td>\n",
       "      <td>46.3913</td>\n",
       "      <td>True</td>\n",
       "      <td>-1</td>\n",
       "    </tr>\n",
       "    <tr>\n",
       "      <th>9575623646</th>\n",
       "      <td>2010-02-24 13:30:51</td>\n",
       "      <td>8.06763</td>\n",
       "      <td>46.3910</td>\n",
       "      <td>True</td>\n",
       "      <td>-1</td>\n",
       "    </tr>\n",
       "    <tr>\n",
       "      <th>9587557928</th>\n",
       "      <td>2010-02-24 18:45:38</td>\n",
       "      <td>8.77847</td>\n",
       "      <td>47.2034</td>\n",
       "      <td>True</td>\n",
       "      <td>-1</td>\n",
       "    </tr>\n",
       "    <tr>\n",
       "      <th>9621355274</th>\n",
       "      <td>2010-02-25 11:16:50</td>\n",
       "      <td>7.53729</td>\n",
       "      <td>46.8894</td>\n",
       "      <td>True</td>\n",
       "      <td>-1</td>\n",
       "    </tr>\n",
       "  </tbody>\n",
       "</table>\n",
       "</div>"
      ],
      "text/plain": [
       "                           date  longitude  latitude  used  cluster\n",
       "0                                                                  \n",
       "9564875001  2010-02-24 06:26:53    7.44237   46.8958  True       -1\n",
       "9575552318  2010-02-24 13:28:52    8.06674   46.3913  True       -1\n",
       "9575623646  2010-02-24 13:30:51    8.06763   46.3910  True       -1\n",
       "9587557928  2010-02-24 18:45:38    8.77847   47.2034  True       -1\n",
       "9621355274  2010-02-25 11:16:50    7.53729   46.8894  True       -1"
      ]
     },
     "execution_count": 35,
     "metadata": {},
     "output_type": "execute_result"
    }
   ],
   "source": [
    "non_urban[\"cluster\"] = -1\n",
    "non_urban.head()"
   ]
  },
  {
   "cell_type": "code",
   "execution_count": 48,
   "metadata": {
    "collapsed": true
   },
   "outputs": [],
   "source": [
    "\n"
   ]
  },
  {
   "cell_type": "code",
   "execution_count": 55,
   "metadata": {
    "collapsed": false
   },
   "outputs": [],
   "source": [
    "treshold = 0.0001\n",
    "def find_closest_cluster(row):\n",
    "    closest_cluster = -1\n",
    "    for i in range(clusters_centroids.shape[0]):\n",
    "        longdiff = (clusters_centroids[i][1] - row[\"longitude\"])**2\n",
    "        latdiff = (clusters_centroids[i][2] - row[\"latitude\"])**2\n",
    "        if (longdiff + latdiff) < treshold:\n",
    "            closest_cluster = i\n",
    "            break\n",
    "    return closest_cluster\n"
   ]
  },
  {
   "cell_type": "code",
   "execution_count": null,
   "metadata": {
    "collapsed": false
   },
   "outputs": [],
   "source": [
    "non_urban[\"cluster\"] = non_urban.apply(lambda row: find_closest_cluster(row), axis=1)\n",
    "non_urban.head()"
   ]
  },
  {
   "cell_type": "code",
   "execution_count": null,
   "metadata": {
    "collapsed": true
   },
   "outputs": [],
   "source": []
  },
  {
   "cell_type": "code",
   "execution_count": 52,
   "metadata": {
    "collapsed": false
   },
   "outputs": [
    {
     "name": "stderr",
     "output_type": "stream",
     "text": [
      "/home/nathan/anaconda3/lib/python3.5/site-packages/sklearn/externals/joblib/hashing.py:197: DeprecationWarning: Changing the shape of non-C contiguous array by\n",
      "descriptor assignment is deprecated. To maintain\n",
      "the Fortran contiguity of a multidimensional Fortran\n",
      "array, use 'a.T.view(...).T' instead\n",
      "  obj_bytes_view = obj.view(self.np.uint8)\n"
     ]
    },
    {
     "data": {
      "text/plain": [
       "KMeans(copy_x=True, init='k-means++', max_iter=10, n_clusters=1000, n_init=1,\n",
       "    n_jobs=4, precompute_distances='auto', random_state=None, tol=0.0001,\n",
       "    verbose=0)"
      ]
     },
     "execution_count": 52,
     "metadata": {},
     "output_type": "execute_result"
    }
   ],
   "source": [
    "from sklearn.cluster import KMeans\n",
    "kmeans = KMeans(init='k-means++', n_clusters=1000, n_init=1, max_iter=10, n_jobs = 4)\n",
    "kmeans.fit(non_urban[[\"longitude\",\"latitude\"]])"
   ]
  },
  {
   "cell_type": "code",
   "execution_count": 53,
   "metadata": {
    "collapsed": false
   },
   "outputs": [
    {
     "data": {
      "image/png": "[encoded data removed]",
      "text/plain": [
       "<matplotlib.figure.Figure at 0x7fb6dac0fac8>"
      ]
     },
     "metadata": {},
     "output_type": "display_data"
    }
   ],
   "source": [
    "plt.figure(1)\n",
    "\n",
    "# Plot the centroids as a white X\n",
    "centroids = kmeans.cluster_centers_\n",
    "plt.xlim(45, 49)\n",
    "plt.ylim(5, 11)\n",
    "plt.scatter(centroids[:, 1], centroids[:, 0])\n",
    "plt.show()"
   ]
  },
  {
   "cell_type": "code",
   "execution_count": 54,
   "metadata": {
    "collapsed": false
   },
   "outputs": [
    {
     "data": {
      "text/plain": [
       "(1199362, 2)"
      ]
     },
     "execution_count": 54,
     "metadata": {},
     "output_type": "execute_result"
    }
   ],
   "source": [
    "np_array = non_urban[[\"longitude\",\"latitude\"]].as_matrix()\n",
    "np_array.shape"
   ]
  },
  {
   "cell_type": "markdown",
   "metadata": {},
   "source": [
    "We compute the predicitons of the cluster for each tweet based on the computed model. Predict only 100'000 tweets at the same for memory purpose."
   ]
  },
  {
   "cell_type": "code",
   "execution_count": 55,
   "metadata": {
    "collapsed": false
   },
   "outputs": [],
   "source": [
    "step = 100000\n",
    "predictions = [[]]\n",
    "\n",
    "for i in range(int(np_array.shape[0]/step)):\n",
    "    if i == 0:\n",
    "        predictions = kmeans.predict(np_array[i*step:(i+1)*step])\n",
    "    else :\n",
    "        predictions = np.concatenate([predictions, kmeans.predict(np_array[i*step:(i+1)*step])])"
   ]
  },
  {
   "cell_type": "code",
   "execution_count": 56,
   "metadata": {
    "collapsed": false
   },
   "outputs": [],
   "source": [
    "i = i+1\n",
    "predictions = np.concatenate([predictions, kmeans.predict(np_array[i*step:(i+1)*step])])"
   ]
  },
  {
   "cell_type": "code",
   "execution_count": 57,
   "metadata": {
    "collapsed": false
   },
   "outputs": [
    {
     "data": {
      "text/plain": [
       "(1199362,)"
      ]
     },
     "execution_count": 57,
     "metadata": {},
     "output_type": "execute_result"
    }
   ],
   "source": [
    "predictions.shape"
   ]
  },
  {
   "cell_type": "code",
   "execution_count": 58,
   "metadata": {
    "collapsed": false
   },
   "outputs": [
    {
     "data": {
      "text/plain": [
       "array([644, 102, 102, ..., 838, 497, 105], dtype=int32)"
      ]
     },
     "execution_count": 58,
     "metadata": {},
     "output_type": "execute_result"
    }
   ],
   "source": [
    "predictions"
   ]
  },
  {
   "cell_type": "code",
   "execution_count": 59,
   "metadata": {
    "collapsed": false
   },
   "outputs": [],
   "source": [
    "np.savetxt(\"data/cluster_assignements.csv\", predictions.astype(int), fmt='%d')"
   ]
  },
  {
   "cell_type": "code",
   "execution_count": 60,
   "metadata": {
    "collapsed": false
   },
   "outputs": [
    {
     "data": {
      "text/html": [
       "<div>\n",
       "<table border=\"1\" class=\"dataframe\">\n",
       "  <thead>\n",
       "    <tr style=\"text-align: right;\">\n",
       "      <th></th>\n",
       "      <th>date</th>\n",
       "      <th>longitude</th>\n",
       "      <th>latitude</th>\n",
       "      <th>used</th>\n",
       "      <th>cluster</th>\n",
       "    </tr>\n",
       "    <tr>\n",
       "      <th>0</th>\n",
       "      <th></th>\n",
       "      <th></th>\n",
       "      <th></th>\n",
       "      <th></th>\n",
       "      <th></th>\n",
       "    </tr>\n",
       "  </thead>\n",
       "  <tbody>\n",
       "    <tr>\n",
       "      <th>9564875001</th>\n",
       "      <td>2010-02-24 06:26:53</td>\n",
       "      <td>7.44237</td>\n",
       "      <td>46.8958</td>\n",
       "      <td>True</td>\n",
       "      <td>644</td>\n",
       "    </tr>\n",
       "    <tr>\n",
       "      <th>9575552318</th>\n",
       "      <td>2010-02-24 13:28:52</td>\n",
       "      <td>8.06674</td>\n",
       "      <td>46.3913</td>\n",
       "      <td>True</td>\n",
       "      <td>102</td>\n",
       "    </tr>\n",
       "    <tr>\n",
       "      <th>9575623646</th>\n",
       "      <td>2010-02-24 13:30:51</td>\n",
       "      <td>8.06763</td>\n",
       "      <td>46.3910</td>\n",
       "      <td>True</td>\n",
       "      <td>102</td>\n",
       "    </tr>\n",
       "    <tr>\n",
       "      <th>9587557928</th>\n",
       "      <td>2010-02-24 18:45:38</td>\n",
       "      <td>8.77847</td>\n",
       "      <td>47.2034</td>\n",
       "      <td>True</td>\n",
       "      <td>919</td>\n",
       "    </tr>\n",
       "    <tr>\n",
       "      <th>9621355274</th>\n",
       "      <td>2010-02-25 11:16:50</td>\n",
       "      <td>7.53729</td>\n",
       "      <td>46.8894</td>\n",
       "      <td>True</td>\n",
       "      <td>69</td>\n",
       "    </tr>\n",
       "  </tbody>\n",
       "</table>\n",
       "</div>"
      ],
      "text/plain": [
       "                           date  longitude  latitude  used  cluster\n",
       "0                                                                  \n",
       "9564875001  2010-02-24 06:26:53    7.44237   46.8958  True      644\n",
       "9575552318  2010-02-24 13:28:52    8.06674   46.3913  True      102\n",
       "9575623646  2010-02-24 13:30:51    8.06763   46.3910  True      102\n",
       "9587557928  2010-02-24 18:45:38    8.77847   47.2034  True      919\n",
       "9621355274  2010-02-25 11:16:50    7.53729   46.8894  True       69"
      ]
     },
     "execution_count": 60,
     "metadata": {},
     "output_type": "execute_result"
    }
   ],
   "source": [
    "non_urban[\"cluster\"] = predictions\n",
    "non_urban.head()"
   ]
  },
  {
   "cell_type": "markdown",
   "metadata": {},
   "source": [
    "## Data exporting\n",
    "\n",
    "We now save all the data of the intersting tweets. Their id, date, longitude, latitude, and assigned cluster. We also save the clusters information.\n",
    "\n",
    "This will be used by other notebook to analyze the cluster."
   ]
  },
  {
   "cell_type": "code",
   "execution_count": 61,
   "metadata": {
    "collapsed": true
   },
   "outputs": [],
   "source": [
    "non_urban.to_csv(\"data/cleaned_non_urban_with_clusters.tsv\", sep=\"\\t\")"
   ]
  },
  {
   "cell_type": "code",
   "execution_count": 64,
   "metadata": {
    "collapsed": true
   },
   "outputs": [],
   "source": [
    "clusters_centers = kmeans.cluster_centers_"
   ]
  },
  {
   "cell_type": "code",
   "execution_count": 66,
   "metadata": {
    "collapsed": false
   },
   "outputs": [
    {
     "data": {
      "text/plain": [
       "array([[  7.62471007,  45.87832853],\n",
       "       [  9.89960578,  46.49609189],\n",
       "       [  6.57002659,  45.83524913],\n",
       "       ..., \n",
       "       [  7.16570062,  47.62351228],\n",
       "       [  6.77596923,  46.52317153],\n",
       "       [  7.06355514,  47.5930047 ]])"
      ]
     },
     "execution_count": 66,
     "metadata": {},
     "output_type": "execute_result"
    }
   ],
   "source": [
    "clusters_centers"
   ]
  },
  {
   "cell_type": "code",
   "execution_count": 67,
   "metadata": {
    "collapsed": true
   },
   "outputs": [],
   "source": [
    "pd.DataFrame(clusters_centers).to_csv(\"data/clusters_centers.tsv\", sep=\"\\t\")"
   ]
  }
 ],
 "metadata": {
  "anaconda-cloud": {},
  "kernelspec": {
   "display_name": "Python [Root]",
   "language": "python",
   "name": "Python [Root]"
  },
  "language_info": {
   "codemirror_mode": {
    "name": "ipython",
    "version": 3
   },
   "file_extension": ".py",
   "mimetype": "text/x-python",
   "name": "python",
   "nbconvert_exporter": "python",
   "pygments_lexer": "ipython3",
   "version": "3.5.2"
  }
 },
 "nbformat": 4,
 "nbformat_minor": 0
}
